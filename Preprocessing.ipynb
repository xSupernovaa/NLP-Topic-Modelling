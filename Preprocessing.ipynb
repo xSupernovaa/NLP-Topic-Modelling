{
  "nbformat": 4,
  "nbformat_minor": 0,
  "metadata": {
    "colab": {
      "provenance": []
    },
    "kernelspec": {
      "name": "python3",
      "display_name": "Python 3"
    },
    "language_info": {
      "name": "python"
    }
  },
  "cells": [
    {
      "cell_type": "markdown",
      "source": [
        "# Imports & Data Reading"
      ],
      "metadata": {
        "id": "Vaq75AiUqUuV"
      }
    },
    {
      "cell_type": "code",
      "execution_count": 10,
      "metadata": {
        "id": "CLoWQVFdXKBT",
        "outputId": "34674d84-647c-4d8a-e8ba-3ef9ad477f22",
        "colab": {
          "base_uri": "https://localhost:8080/"
        }
      },
      "outputs": [
        {
          "output_type": "stream",
          "name": "stderr",
          "text": [
            "[nltk_data] Downloading package punkt to /root/nltk_data...\n",
            "[nltk_data]   Package punkt is already up-to-date!\n",
            "[nltk_data] Downloading package stopwords to /root/nltk_data...\n",
            "[nltk_data]   Package stopwords is already up-to-date!\n",
            "[nltk_data] Downloading package wordnet to /root/nltk_data...\n",
            "[nltk_data]   Package wordnet is already up-to-date!\n"
          ]
        }
      ],
      "source": [
        "# Data loading\n",
        "from google.colab import drive\n",
        "import zipfile\n",
        "import pandas as pd\n",
        "import gdown\n",
        "import pickle\n",
        "# Preprocessing\n",
        "import re\n",
        "import string\n",
        "import nltk\n",
        "nltk.download('punkt')\n",
        "nltk.download('stopwords')\n",
        "nltk.download('wordnet')\n",
        "from nltk.tokenize import word_tokenize\n",
        "from nltk.corpus import stopwords\n",
        "from nltk.stem import WordNetLemmatizer\n",
        "stop_words = set(stopwords.words('english'))\n",
        "# Feature extraction\n",
        "import numpy as np\n",
        "from sklearn.feature_extraction.text import TfidfVectorizer, CountVectorizer\n",
        "import gensim\n",
        "from gensim.utils import simple_preprocess\n",
        "from gensim.parsing.preprocessing import STOPWORDS\n",
        "from gensim.corpora import Dictionary\n",
        "from gensim.models import TfidfModel, LdaModel\n",
        "\n",
        "\n",
        "# Util\n",
        "from tqdm import tqdm\n",
        "from pprint import pprint\n"
      ]
    },
    {
      "cell_type": "code",
      "source": [
        "drive.mount('/content/drive')"
      ],
      "metadata": {
        "id": "CO91Xqg8bCMk"
      },
      "execution_count": 11,
      "outputs": []
    },
    {
      "cell_type": "code",
      "source": [
        "DATA_URL = \"https://drive.google.com/file/d/10YvMpIzRSi_GXg91TkrQBL_3JKC5dni7/view?usp=sharing\"\n",
        "PREPROCESSED_ARTICLES_URL = \"https://drive.google.com/file/d/1-DQeGkgh-KmOe7uKFEmrj_GCqbKxNJbh/view?usp=sharing\"\n",
        "CORPUS_BOW_URL = \"https://drive.google.com/file/d/1-I72t_8jqxIukAdEaxRSBMAYJyfNAT8m/view?usp=sharing\""
      ],
      "metadata": {
        "id": "2PXLCYIdmiHy"
      },
      "execution_count": 103,
      "outputs": []
    },
    {
      "cell_type": "code",
      "source": [
        "gdown.download(DATA_URL, fuzzy=True)"
      ],
      "metadata": {
        "colab": {
          "base_uri": "https://localhost:8080/",
          "height": 105
        },
        "id": "dPM2CWH_mmJK",
        "outputId": "ec9d09e0-ac9c-4a87-963f-fcb8a28b88df"
      },
      "execution_count": 13,
      "outputs": [
        {
          "output_type": "stream",
          "name": "stderr",
          "text": [
            "Downloading...\n",
            "From: https://drive.google.com/uc?id=10YvMpIzRSi_GXg91TkrQBL_3JKC5dni7\n",
            "To: /content/articles1.csv.zip\n",
            "100%|██████████| 77.4M/77.4M [00:00<00:00, 203MB/s]\n"
          ]
        },
        {
          "output_type": "execute_result",
          "data": {
            "text/plain": [
              "'articles1.csv.zip'"
            ],
            "application/vnd.google.colaboratory.intrinsic+json": {
              "type": "string"
            }
          },
          "metadata": {},
          "execution_count": 13
        }
      ]
    },
    {
      "cell_type": "code",
      "source": [
        "DATA_PATH = \"articles1.csv.zip\""
      ],
      "metadata": {
        "id": "dW2SfONWbs2U"
      },
      "execution_count": 14,
      "outputs": []
    },
    {
      "cell_type": "code",
      "source": [
        "# Extract the CSV file from the zip archive\n",
        "with zipfile.ZipFile(DATA_PATH, \"r\") as zip_ref:\n",
        "    zip_ref.extractall()\n",
        "\n",
        "# Load the CSV data into a Pandas DataFrame\n",
        "df = pd.read_csv(\"articles1.csv\")"
      ],
      "metadata": {
        "id": "hXlTLTZSbEDu"
      },
      "execution_count": 15,
      "outputs": []
    },
    {
      "cell_type": "code",
      "source": [
        "df.head()"
      ],
      "metadata": {
        "id": "Y01DNiQQUGZ_",
        "outputId": "f886d202-738f-4fba-e68e-7e81eb925c06",
        "colab": {
          "base_uri": "https://localhost:8080/",
          "height": 354
        }
      },
      "execution_count": 16,
      "outputs": [
        {
          "output_type": "execute_result",
          "data": {
            "text/plain": [
              "   Unnamed: 0     id                                              title  \\\n",
              "0           0  17283  House Republicans Fret About Winning Their Hea...   \n",
              "1           1  17284  Rift Between Officers and Residents as Killing...   \n",
              "2           2  17285  Tyrus Wong, ‘Bambi’ Artist Thwarted by Racial ...   \n",
              "3           3  17286  Among Deaths in 2016, a Heavy Toll in Pop Musi...   \n",
              "4           4  17287  Kim Jong-un Says North Korea Is Preparing to T...   \n",
              "\n",
              "      publication                         author        date    year  month  \\\n",
              "0  New York Times                     Carl Hulse  2016-12-31  2016.0   12.0   \n",
              "1  New York Times  Benjamin Mueller and Al Baker  2017-06-19  2017.0    6.0   \n",
              "2  New York Times                   Margalit Fox  2017-01-06  2017.0    1.0   \n",
              "3  New York Times               William McDonald  2017-04-10  2017.0    4.0   \n",
              "4  New York Times                  Choe Sang-Hun  2017-01-02  2017.0    1.0   \n",
              "\n",
              "   url                                            content  \n",
              "0  NaN  WASHINGTON  —   Congressional Republicans have...  \n",
              "1  NaN  After the bullet shells get counted, the blood...  \n",
              "2  NaN  When Walt Disney’s “Bambi” opened in 1942, cri...  \n",
              "3  NaN  Death may be the great equalizer, but it isn’t...  \n",
              "4  NaN  SEOUL, South Korea  —   North Korea’s leader, ...  "
            ],
            "text/html": [
              "\n",
              "  <div id=\"df-5f3c9e11-1923-4593-a92e-137847529693\">\n",
              "    <div class=\"colab-df-container\">\n",
              "      <div>\n",
              "<style scoped>\n",
              "    .dataframe tbody tr th:only-of-type {\n",
              "        vertical-align: middle;\n",
              "    }\n",
              "\n",
              "    .dataframe tbody tr th {\n",
              "        vertical-align: top;\n",
              "    }\n",
              "\n",
              "    .dataframe thead th {\n",
              "        text-align: right;\n",
              "    }\n",
              "</style>\n",
              "<table border=\"1\" class=\"dataframe\">\n",
              "  <thead>\n",
              "    <tr style=\"text-align: right;\">\n",
              "      <th></th>\n",
              "      <th>Unnamed: 0</th>\n",
              "      <th>id</th>\n",
              "      <th>title</th>\n",
              "      <th>publication</th>\n",
              "      <th>author</th>\n",
              "      <th>date</th>\n",
              "      <th>year</th>\n",
              "      <th>month</th>\n",
              "      <th>url</th>\n",
              "      <th>content</th>\n",
              "    </tr>\n",
              "  </thead>\n",
              "  <tbody>\n",
              "    <tr>\n",
              "      <th>0</th>\n",
              "      <td>0</td>\n",
              "      <td>17283</td>\n",
              "      <td>House Republicans Fret About Winning Their Hea...</td>\n",
              "      <td>New York Times</td>\n",
              "      <td>Carl Hulse</td>\n",
              "      <td>2016-12-31</td>\n",
              "      <td>2016.0</td>\n",
              "      <td>12.0</td>\n",
              "      <td>NaN</td>\n",
              "      <td>WASHINGTON  —   Congressional Republicans have...</td>\n",
              "    </tr>\n",
              "    <tr>\n",
              "      <th>1</th>\n",
              "      <td>1</td>\n",
              "      <td>17284</td>\n",
              "      <td>Rift Between Officers and Residents as Killing...</td>\n",
              "      <td>New York Times</td>\n",
              "      <td>Benjamin Mueller and Al Baker</td>\n",
              "      <td>2017-06-19</td>\n",
              "      <td>2017.0</td>\n",
              "      <td>6.0</td>\n",
              "      <td>NaN</td>\n",
              "      <td>After the bullet shells get counted, the blood...</td>\n",
              "    </tr>\n",
              "    <tr>\n",
              "      <th>2</th>\n",
              "      <td>2</td>\n",
              "      <td>17285</td>\n",
              "      <td>Tyrus Wong, ‘Bambi’ Artist Thwarted by Racial ...</td>\n",
              "      <td>New York Times</td>\n",
              "      <td>Margalit Fox</td>\n",
              "      <td>2017-01-06</td>\n",
              "      <td>2017.0</td>\n",
              "      <td>1.0</td>\n",
              "      <td>NaN</td>\n",
              "      <td>When Walt Disney’s “Bambi” opened in 1942, cri...</td>\n",
              "    </tr>\n",
              "    <tr>\n",
              "      <th>3</th>\n",
              "      <td>3</td>\n",
              "      <td>17286</td>\n",
              "      <td>Among Deaths in 2016, a Heavy Toll in Pop Musi...</td>\n",
              "      <td>New York Times</td>\n",
              "      <td>William McDonald</td>\n",
              "      <td>2017-04-10</td>\n",
              "      <td>2017.0</td>\n",
              "      <td>4.0</td>\n",
              "      <td>NaN</td>\n",
              "      <td>Death may be the great equalizer, but it isn’t...</td>\n",
              "    </tr>\n",
              "    <tr>\n",
              "      <th>4</th>\n",
              "      <td>4</td>\n",
              "      <td>17287</td>\n",
              "      <td>Kim Jong-un Says North Korea Is Preparing to T...</td>\n",
              "      <td>New York Times</td>\n",
              "      <td>Choe Sang-Hun</td>\n",
              "      <td>2017-01-02</td>\n",
              "      <td>2017.0</td>\n",
              "      <td>1.0</td>\n",
              "      <td>NaN</td>\n",
              "      <td>SEOUL, South Korea  —   North Korea’s leader, ...</td>\n",
              "    </tr>\n",
              "  </tbody>\n",
              "</table>\n",
              "</div>\n",
              "      <button class=\"colab-df-convert\" onclick=\"convertToInteractive('df-5f3c9e11-1923-4593-a92e-137847529693')\"\n",
              "              title=\"Convert this dataframe to an interactive table.\"\n",
              "              style=\"display:none;\">\n",
              "        \n",
              "  <svg xmlns=\"http://www.w3.org/2000/svg\" height=\"24px\"viewBox=\"0 0 24 24\"\n",
              "       width=\"24px\">\n",
              "    <path d=\"M0 0h24v24H0V0z\" fill=\"none\"/>\n",
              "    <path d=\"M18.56 5.44l.94 2.06.94-2.06 2.06-.94-2.06-.94-.94-2.06-.94 2.06-2.06.94zm-11 1L8.5 8.5l.94-2.06 2.06-.94-2.06-.94L8.5 2.5l-.94 2.06-2.06.94zm10 10l.94 2.06.94-2.06 2.06-.94-2.06-.94-.94-2.06-.94 2.06-2.06.94z\"/><path d=\"M17.41 7.96l-1.37-1.37c-.4-.4-.92-.59-1.43-.59-.52 0-1.04.2-1.43.59L10.3 9.45l-7.72 7.72c-.78.78-.78 2.05 0 2.83L4 21.41c.39.39.9.59 1.41.59.51 0 1.02-.2 1.41-.59l7.78-7.78 2.81-2.81c.8-.78.8-2.07 0-2.86zM5.41 20L4 18.59l7.72-7.72 1.47 1.35L5.41 20z\"/>\n",
              "  </svg>\n",
              "      </button>\n",
              "      \n",
              "  <style>\n",
              "    .colab-df-container {\n",
              "      display:flex;\n",
              "      flex-wrap:wrap;\n",
              "      gap: 12px;\n",
              "    }\n",
              "\n",
              "    .colab-df-convert {\n",
              "      background-color: #E8F0FE;\n",
              "      border: none;\n",
              "      border-radius: 50%;\n",
              "      cursor: pointer;\n",
              "      display: none;\n",
              "      fill: #1967D2;\n",
              "      height: 32px;\n",
              "      padding: 0 0 0 0;\n",
              "      width: 32px;\n",
              "    }\n",
              "\n",
              "    .colab-df-convert:hover {\n",
              "      background-color: #E2EBFA;\n",
              "      box-shadow: 0px 1px 2px rgba(60, 64, 67, 0.3), 0px 1px 3px 1px rgba(60, 64, 67, 0.15);\n",
              "      fill: #174EA6;\n",
              "    }\n",
              "\n",
              "    [theme=dark] .colab-df-convert {\n",
              "      background-color: #3B4455;\n",
              "      fill: #D2E3FC;\n",
              "    }\n",
              "\n",
              "    [theme=dark] .colab-df-convert:hover {\n",
              "      background-color: #434B5C;\n",
              "      box-shadow: 0px 1px 3px 1px rgba(0, 0, 0, 0.15);\n",
              "      filter: drop-shadow(0px 1px 2px rgba(0, 0, 0, 0.3));\n",
              "      fill: #FFFFFF;\n",
              "    }\n",
              "  </style>\n",
              "\n",
              "      <script>\n",
              "        const buttonEl =\n",
              "          document.querySelector('#df-5f3c9e11-1923-4593-a92e-137847529693 button.colab-df-convert');\n",
              "        buttonEl.style.display =\n",
              "          google.colab.kernel.accessAllowed ? 'block' : 'none';\n",
              "\n",
              "        async function convertToInteractive(key) {\n",
              "          const element = document.querySelector('#df-5f3c9e11-1923-4593-a92e-137847529693');\n",
              "          const dataTable =\n",
              "            await google.colab.kernel.invokeFunction('convertToInteractive',\n",
              "                                                     [key], {});\n",
              "          if (!dataTable) return;\n",
              "\n",
              "          const docLinkHtml = 'Like what you see? Visit the ' +\n",
              "            '<a target=\"_blank\" href=https://colab.research.google.com/notebooks/data_table.ipynb>data table notebook</a>'\n",
              "            + ' to learn more about interactive tables.';\n",
              "          element.innerHTML = '';\n",
              "          dataTable['output_type'] = 'display_data';\n",
              "          await google.colab.output.renderOutput(dataTable, element);\n",
              "          const docLink = document.createElement('div');\n",
              "          docLink.innerHTML = docLinkHtml;\n",
              "          element.appendChild(docLink);\n",
              "        }\n",
              "      </script>\n",
              "    </div>\n",
              "  </div>\n",
              "  "
            ]
          },
          "metadata": {},
          "execution_count": 16
        }
      ]
    },
    {
      "cell_type": "markdown",
      "source": [
        "# Preprocessing"
      ],
      "metadata": {
        "id": "PlE5WNvKqYcu"
      }
    },
    {
      "cell_type": "code",
      "source": [
        "# Extract title and content as its preprocessing will differ from other features\n",
        "articles =  df['title'] + ' ' + df['content']"
      ],
      "metadata": {
        "id": "RysPcCOWb4Zs"
      },
      "execution_count": 17,
      "outputs": []
    },
    {
      "cell_type": "code",
      "source": [
        "articles[0]"
      ],
      "metadata": {
        "id": "LzhqWbwDgsGX",
        "outputId": "fbe14306-59ef-412a-bf13-f08317136c6e",
        "colab": {
          "base_uri": "https://localhost:8080/",
          "height": 140
        }
      },
      "execution_count": 18,
      "outputs": [
        {
          "output_type": "execute_result",
          "data": {
            "text/plain": [
              "'House Republicans Fret About Winning Their Health Care Suit - The New York Times WASHINGTON  —   Congressional Republicans have a new fear when it comes to their    health care lawsuit against the Obama administration: They might win. The incoming Trump administration could choose to no longer defend the executive branch against the suit, which challenges the administration’s authority to spend billions of dollars on health insurance subsidies for   and   Americans, handing House Republicans a big victory on    issues. But a sudden loss of the disputed subsidies could conceivably cause the health care program to implode, leaving millions of people without access to health insurance before Republicans have prepared a replacement. That could lead to chaos in the insurance market and spur a political backlash just as Republicans gain full control of the government. To stave off that outcome, Republicans could find themselves in the awkward position of appropriating huge sums to temporarily prop up the Obama health care law, angering conservative voters who have been demanding an end to the law for years. In another twist, Donald J. Trump’s administration, worried about preserving executive branch prerogatives, could choose to fight its Republican allies in the House on some central questions in the dispute. Eager to avoid an ugly political pileup, Republicans on Capitol Hill and the Trump transition team are gaming out how to handle the lawsuit, which, after the election, has been put in limbo until at least late February by the United States Court of Appeals for the District of Columbia Circuit. They are not yet ready to divulge their strategy. “Given that this pending litigation involves the Obama administration and Congress, it would be inappropriate to comment,” said Phillip J. Blando, a spokesman for the Trump transition effort. “Upon taking office, the Trump administration will evaluate this case and all related aspects of the Affordable Care Act. ” In a potentially   decision in 2015, Judge Rosemary M. Collyer ruled that House Republicans had the standing to sue the executive branch over a spending dispute and that the Obama administration had been distributing the health insurance subsidies, in violation of the Constitution, without approval from Congress. The Justice Department, confident that Judge Collyer’s decision would be reversed, quickly appealed, and the subsidies have remained in place during the appeal. In successfully seeking a temporary halt in the proceedings after Mr. Trump won, House Republicans last month told the court that they “and the  ’s transition team currently are discussing potential options for resolution of this matter, to take effect after the  ’s inauguration on Jan. 20, 2017. ” The suspension of the case, House lawyers said, will “provide the   and his future administration time to consider whether to continue prosecuting or to otherwise resolve this appeal. ” Republican leadership officials in the House acknowledge the possibility of “cascading effects” if the   payments, which have totaled an estimated $13 billion, are suddenly stopped. Insurers that receive the subsidies in exchange for paying    costs such as deductibles and   for eligible consumers could race to drop coverage since they would be losing money. Over all, the loss of the subsidies could destabilize the entire program and cause a lack of confidence that leads other insurers to seek a quick exit as well. Anticipating that the Trump administration might not be inclined to mount a vigorous fight against the House Republicans given the  ’s dim view of the health care law, a team of lawyers this month sought to intervene in the case on behalf of two participants in the health care program. In their request, the lawyers predicted that a deal between House Republicans and the new administration to dismiss or settle the case “will produce devastating consequences for the individuals who receive these reductions, as well as for the nation’s health insurance and health care systems generally. ” No matter what happens, House Republicans say, they want to prevail on two overarching concepts: the congressional power of the purse, and the right of Congress to sue the executive branch if it violates the Constitution regarding that spending power. House Republicans contend that Congress never appropriated the money for the subsidies, as required by the Constitution. In the suit, which was initially championed by John A. Boehner, the House speaker at the time, and later in House committee reports, Republicans asserted that the administration, desperate for the funding, had required the Treasury Department to provide it despite widespread internal skepticism that the spending was proper. The White House said that the spending was a permanent part of the law passed in 2010, and that no annual appropriation was required  —   even though the administration initially sought one. Just as important to House Republicans, Judge Collyer found that Congress had the standing to sue the White House on this issue  —   a ruling that many legal experts said was flawed  —   and they want that precedent to be set to restore congressional leverage over the executive branch. But on spending power and standing, the Trump administration may come under pressure from advocates of presidential authority to fight the House no matter their shared views on health care, since those precedents could have broad repercussions. It is a complicated set of dynamics illustrating how a quick legal victory for the House in the Trump era might come with costs that Republicans never anticipated when they took on the Obama White House.'"
            ],
            "application/vnd.google.colaboratory.intrinsic+json": {
              "type": "string"
            }
          },
          "metadata": {},
          "execution_count": 18
        }
      ]
    },
    {
      "cell_type": "code",
      "source": [
        "def preprocess_articles(articles):\n",
        "\n",
        "  lemmatizer = WordNetLemmatizer()\n",
        "\n",
        "  # Remove punctuations and convert text to lowercase\n",
        "  words = gensim.utils.simple_preprocess(articles, deacc=True)\n",
        "    \n",
        "  # Remove stop words & punctuation \n",
        "  words = [word for word in words if word not in stop_words and word not in string.punctuation]\n",
        "  # Lemmatize\n",
        "  words = [lemmatizer.lemmatize(word) for word in words]\n",
        "\n",
        "  # remove all non-word and non-space\n",
        "  # words = re.sub(r'[^\\w\\s]', '', words) \n",
        "\n",
        "  return words\n"
      ],
      "metadata": {
        "id": "2N4aw8zYcbE-"
      },
      "execution_count": 47,
      "outputs": []
    },
    {
      "cell_type": "code",
      "source": [
        "# tqdm.pandas()\n",
        "# preprocessed_articles = articles.map(preprocess_articles)"
      ],
      "metadata": {
        "id": "Vu73tvGEf2-B"
      },
      "execution_count": null,
      "outputs": []
    },
    {
      "cell_type": "markdown",
      "source": [
        "Use below cell to save new preprocessed articles instead of loading already saved ones (don't forget to update `PREPROCESSED_ARTICLES_URL` with the new gdrive link)"
      ],
      "metadata": {
        "id": "HCWjbQOOBqJE"
      }
    },
    {
      "cell_type": "code",
      "source": [
        "# from joblib import Parallel, delayed\n",
        "# preprocessed_articles = Parallel(n_jobs=4)(delayed(preprocess_articles)(article) for article in tqdm(articles, position=0, leave=True))\n",
        "# preprocessed_articles = pd.Series(preprocessed_articles)\n",
        "# pickle.dump(preprocessed_articles, open(\"preprocessed_articles.pkl\", \"wb\"))\n",
        "# !cp preprocessed_articles.pkl /content/drive/MyDrive/Edu/NLP"
      ],
      "metadata": {
        "colab": {
          "base_uri": "https://localhost:8080/"
        },
        "id": "2a11Ol-kzVGD",
        "outputId": "6c08b63f-d560-4fd6-ddba-02aba6e2f2f7"
      },
      "execution_count": 58,
      "outputs": [
        {
          "output_type": "stream",
          "name": "stderr",
          "text": [
            "100%|██████████| 50000/50000 [03:00<00:00, 276.76it/s]\n"
          ]
        }
      ]
    },
    {
      "cell_type": "code",
      "source": [
        "gdown.download(PREPROCESSED_ARTICLES_URL, fuzzy=True)"
      ],
      "metadata": {
        "colab": {
          "base_uri": "https://localhost:8080/",
          "height": 105
        },
        "id": "DECUxG5fAS8E",
        "outputId": "f68e536b-a526-4fd7-970e-ce88d8c95ed3"
      },
      "execution_count": 104,
      "outputs": [
        {
          "output_type": "stream",
          "name": "stderr",
          "text": [
            "Downloading...\n",
            "From: https://drive.google.com/uc?id=1-DQeGkgh-KmOe7uKFEmrj_GCqbKxNJbh\n",
            "To: /content/preprocessed_articles.pkl\n",
            "100%|██████████| 165M/165M [00:01<00:00, 126MB/s]\n"
          ]
        },
        {
          "output_type": "execute_result",
          "data": {
            "text/plain": [
              "'preprocessed_articles.pkl'"
            ],
            "application/vnd.google.colaboratory.intrinsic+json": {
              "type": "string"
            }
          },
          "metadata": {},
          "execution_count": 104
        }
      ]
    },
    {
      "cell_type": "code",
      "source": [
        "preprocessed_articles = pickle.load(open(\"preprocessed_articles.pkl\", \"rb\"))"
      ],
      "metadata": {
        "id": "bVB4-Ssv--vj"
      },
      "execution_count": 105,
      "outputs": []
    },
    {
      "cell_type": "code",
      "source": [
        "preprocessed_articles[0]"
      ],
      "metadata": {
        "id": "c1USf_noVr7Y",
        "outputId": "0143d551-6f65-46f8-ba11-038ff259524b",
        "colab": {
          "base_uri": "https://localhost:8080/"
        }
      },
      "execution_count": 106,
      "outputs": [
        {
          "output_type": "execute_result",
          "data": {
            "text/plain": [
              "['house',\n",
              " 'republican',\n",
              " 'fret',\n",
              " 'winning',\n",
              " 'health',\n",
              " 'care',\n",
              " 'suit',\n",
              " 'new',\n",
              " 'york',\n",
              " 'time',\n",
              " 'washington',\n",
              " 'congressional',\n",
              " 'republican',\n",
              " 'new',\n",
              " 'fear',\n",
              " 'come',\n",
              " 'health',\n",
              " 'care',\n",
              " 'lawsuit',\n",
              " 'obama',\n",
              " 'administration',\n",
              " 'might',\n",
              " 'win',\n",
              " 'incoming',\n",
              " 'trump',\n",
              " 'administration',\n",
              " 'could',\n",
              " 'choose',\n",
              " 'longer',\n",
              " 'defend',\n",
              " 'executive',\n",
              " 'branch',\n",
              " 'suit',\n",
              " 'challenge',\n",
              " 'administration',\n",
              " 'authority',\n",
              " 'spend',\n",
              " 'billion',\n",
              " 'dollar',\n",
              " 'health',\n",
              " 'insurance',\n",
              " 'subsidy',\n",
              " 'american',\n",
              " 'handing',\n",
              " 'house',\n",
              " 'republican',\n",
              " 'big',\n",
              " 'victory',\n",
              " 'issue',\n",
              " 'sudden',\n",
              " 'loss',\n",
              " 'disputed',\n",
              " 'subsidy',\n",
              " 'could',\n",
              " 'conceivably',\n",
              " 'cause',\n",
              " 'health',\n",
              " 'care',\n",
              " 'program',\n",
              " 'implode',\n",
              " 'leaving',\n",
              " 'million',\n",
              " 'people',\n",
              " 'without',\n",
              " 'access',\n",
              " 'health',\n",
              " 'insurance',\n",
              " 'republican',\n",
              " 'prepared',\n",
              " 'replacement',\n",
              " 'could',\n",
              " 'lead',\n",
              " 'chaos',\n",
              " 'insurance',\n",
              " 'market',\n",
              " 'spur',\n",
              " 'political',\n",
              " 'backlash',\n",
              " 'republican',\n",
              " 'gain',\n",
              " 'full',\n",
              " 'control',\n",
              " 'government',\n",
              " 'stave',\n",
              " 'outcome',\n",
              " 'republican',\n",
              " 'could',\n",
              " 'find',\n",
              " 'awkward',\n",
              " 'position',\n",
              " 'appropriating',\n",
              " 'huge',\n",
              " 'sum',\n",
              " 'temporarily',\n",
              " 'prop',\n",
              " 'obama',\n",
              " 'health',\n",
              " 'care',\n",
              " 'law',\n",
              " 'angering',\n",
              " 'conservative',\n",
              " 'voter',\n",
              " 'demanding',\n",
              " 'end',\n",
              " 'law',\n",
              " 'year',\n",
              " 'another',\n",
              " 'twist',\n",
              " 'donald',\n",
              " 'trump',\n",
              " 'administration',\n",
              " 'worried',\n",
              " 'preserving',\n",
              " 'executive',\n",
              " 'branch',\n",
              " 'prerogative',\n",
              " 'could',\n",
              " 'choose',\n",
              " 'fight',\n",
              " 'republican',\n",
              " 'ally',\n",
              " 'house',\n",
              " 'central',\n",
              " 'question',\n",
              " 'dispute',\n",
              " 'eager',\n",
              " 'avoid',\n",
              " 'ugly',\n",
              " 'political',\n",
              " 'pileup',\n",
              " 'republican',\n",
              " 'capitol',\n",
              " 'hill',\n",
              " 'trump',\n",
              " 'transition',\n",
              " 'team',\n",
              " 'gaming',\n",
              " 'handle',\n",
              " 'lawsuit',\n",
              " 'election',\n",
              " 'put',\n",
              " 'limbo',\n",
              " 'least',\n",
              " 'late',\n",
              " 'february',\n",
              " 'united',\n",
              " 'state',\n",
              " 'court',\n",
              " 'appeal',\n",
              " 'district',\n",
              " 'columbia',\n",
              " 'circuit',\n",
              " 'yet',\n",
              " 'ready',\n",
              " 'divulge',\n",
              " 'strategy',\n",
              " 'given',\n",
              " 'pending',\n",
              " 'litigation',\n",
              " 'involves',\n",
              " 'obama',\n",
              " 'administration',\n",
              " 'congress',\n",
              " 'would',\n",
              " 'inappropriate',\n",
              " 'comment',\n",
              " 'said',\n",
              " 'phillip',\n",
              " 'blando',\n",
              " 'spokesman',\n",
              " 'trump',\n",
              " 'transition',\n",
              " 'effort',\n",
              " 'upon',\n",
              " 'taking',\n",
              " 'office',\n",
              " 'trump',\n",
              " 'administration',\n",
              " 'evaluate',\n",
              " 'case',\n",
              " 'related',\n",
              " 'aspect',\n",
              " 'affordable',\n",
              " 'care',\n",
              " 'act',\n",
              " 'potentially',\n",
              " 'decision',\n",
              " 'judge',\n",
              " 'rosemary',\n",
              " 'collyer',\n",
              " 'ruled',\n",
              " 'house',\n",
              " 'republican',\n",
              " 'standing',\n",
              " 'sue',\n",
              " 'executive',\n",
              " 'branch',\n",
              " 'spending',\n",
              " 'dispute',\n",
              " 'obama',\n",
              " 'administration',\n",
              " 'distributing',\n",
              " 'health',\n",
              " 'insurance',\n",
              " 'subsidy',\n",
              " 'violation',\n",
              " 'constitution',\n",
              " 'without',\n",
              " 'approval',\n",
              " 'congress',\n",
              " 'justice',\n",
              " 'department',\n",
              " 'confident',\n",
              " 'judge',\n",
              " 'collyer',\n",
              " 'decision',\n",
              " 'would',\n",
              " 'reversed',\n",
              " 'quickly',\n",
              " 'appealed',\n",
              " 'subsidy',\n",
              " 'remained',\n",
              " 'place',\n",
              " 'appeal',\n",
              " 'successfully',\n",
              " 'seeking',\n",
              " 'temporary',\n",
              " 'halt',\n",
              " 'proceeding',\n",
              " 'mr',\n",
              " 'trump',\n",
              " 'house',\n",
              " 'republican',\n",
              " 'last',\n",
              " 'month',\n",
              " 'told',\n",
              " 'court',\n",
              " 'transition',\n",
              " 'team',\n",
              " 'currently',\n",
              " 'discussing',\n",
              " 'potential',\n",
              " 'option',\n",
              " 'resolution',\n",
              " 'matter',\n",
              " 'take',\n",
              " 'effect',\n",
              " 'inauguration',\n",
              " 'jan',\n",
              " 'suspension',\n",
              " 'case',\n",
              " 'house',\n",
              " 'lawyer',\n",
              " 'said',\n",
              " 'provide',\n",
              " 'future',\n",
              " 'administration',\n",
              " 'time',\n",
              " 'consider',\n",
              " 'whether',\n",
              " 'continue',\n",
              " 'prosecuting',\n",
              " 'otherwise',\n",
              " 'resolve',\n",
              " 'appeal',\n",
              " 'republican',\n",
              " 'leadership',\n",
              " 'official',\n",
              " 'house',\n",
              " 'acknowledge',\n",
              " 'possibility',\n",
              " 'cascading',\n",
              " 'effect',\n",
              " 'payment',\n",
              " 'totaled',\n",
              " 'estimated',\n",
              " 'billion',\n",
              " 'suddenly',\n",
              " 'stopped',\n",
              " 'insurer',\n",
              " 'receive',\n",
              " 'subsidy',\n",
              " 'exchange',\n",
              " 'paying',\n",
              " 'cost',\n",
              " 'deductible',\n",
              " 'eligible',\n",
              " 'consumer',\n",
              " 'could',\n",
              " 'race',\n",
              " 'drop',\n",
              " 'coverage',\n",
              " 'since',\n",
              " 'would',\n",
              " 'losing',\n",
              " 'money',\n",
              " 'loss',\n",
              " 'subsidy',\n",
              " 'could',\n",
              " 'destabilize',\n",
              " 'entire',\n",
              " 'program',\n",
              " 'cause',\n",
              " 'lack',\n",
              " 'confidence',\n",
              " 'lead',\n",
              " 'insurer',\n",
              " 'seek',\n",
              " 'quick',\n",
              " 'exit',\n",
              " 'well',\n",
              " 'anticipating',\n",
              " 'trump',\n",
              " 'administration',\n",
              " 'might',\n",
              " 'inclined',\n",
              " 'mount',\n",
              " 'vigorous',\n",
              " 'fight',\n",
              " 'house',\n",
              " 'republican',\n",
              " 'given',\n",
              " 'dim',\n",
              " 'view',\n",
              " 'health',\n",
              " 'care',\n",
              " 'law',\n",
              " 'team',\n",
              " 'lawyer',\n",
              " 'month',\n",
              " 'sought',\n",
              " 'intervene',\n",
              " 'case',\n",
              " 'behalf',\n",
              " 'two',\n",
              " 'participant',\n",
              " 'health',\n",
              " 'care',\n",
              " 'program',\n",
              " 'request',\n",
              " 'lawyer',\n",
              " 'predicted',\n",
              " 'deal',\n",
              " 'house',\n",
              " 'republican',\n",
              " 'new',\n",
              " 'administration',\n",
              " 'dismiss',\n",
              " 'settle',\n",
              " 'case',\n",
              " 'produce',\n",
              " 'devastating',\n",
              " 'consequence',\n",
              " 'individual',\n",
              " 'receive',\n",
              " 'reduction',\n",
              " 'well',\n",
              " 'nation',\n",
              " 'health',\n",
              " 'insurance',\n",
              " 'health',\n",
              " 'care',\n",
              " 'system',\n",
              " 'generally',\n",
              " 'matter',\n",
              " 'happens',\n",
              " 'house',\n",
              " 'republican',\n",
              " 'say',\n",
              " 'want',\n",
              " 'prevail',\n",
              " 'two',\n",
              " 'overarching',\n",
              " 'concept',\n",
              " 'congressional',\n",
              " 'power',\n",
              " 'purse',\n",
              " 'right',\n",
              " 'congress',\n",
              " 'sue',\n",
              " 'executive',\n",
              " 'branch',\n",
              " 'violates',\n",
              " 'constitution',\n",
              " 'regarding',\n",
              " 'spending',\n",
              " 'power',\n",
              " 'house',\n",
              " 'republican',\n",
              " 'contend',\n",
              " 'congress',\n",
              " 'never',\n",
              " 'appropriated',\n",
              " 'money',\n",
              " 'subsidy',\n",
              " 'required',\n",
              " 'constitution',\n",
              " 'suit',\n",
              " 'initially',\n",
              " 'championed',\n",
              " 'john',\n",
              " 'boehner',\n",
              " 'house',\n",
              " 'speaker',\n",
              " 'time',\n",
              " 'later',\n",
              " 'house',\n",
              " 'committee',\n",
              " 'report',\n",
              " 'republican',\n",
              " 'asserted',\n",
              " 'administration',\n",
              " 'desperate',\n",
              " 'funding',\n",
              " 'required',\n",
              " 'treasury',\n",
              " 'department',\n",
              " 'provide',\n",
              " 'despite',\n",
              " 'widespread',\n",
              " 'internal',\n",
              " 'skepticism',\n",
              " 'spending',\n",
              " 'proper',\n",
              " 'white',\n",
              " 'house',\n",
              " 'said',\n",
              " 'spending',\n",
              " 'permanent',\n",
              " 'part',\n",
              " 'law',\n",
              " 'passed',\n",
              " 'annual',\n",
              " 'appropriation',\n",
              " 'required',\n",
              " 'even',\n",
              " 'though',\n",
              " 'administration',\n",
              " 'initially',\n",
              " 'sought',\n",
              " 'one',\n",
              " 'important',\n",
              " 'house',\n",
              " 'republican',\n",
              " 'judge',\n",
              " 'collyer',\n",
              " 'found',\n",
              " 'congress',\n",
              " 'standing',\n",
              " 'sue',\n",
              " 'white',\n",
              " 'house',\n",
              " 'issue',\n",
              " 'ruling',\n",
              " 'many',\n",
              " 'legal',\n",
              " 'expert',\n",
              " 'said',\n",
              " 'flawed',\n",
              " 'want',\n",
              " 'precedent',\n",
              " 'set',\n",
              " 'restore',\n",
              " 'congressional',\n",
              " 'leverage',\n",
              " 'executive',\n",
              " 'branch',\n",
              " 'spending',\n",
              " 'power',\n",
              " 'standing',\n",
              " 'trump',\n",
              " 'administration',\n",
              " 'may',\n",
              " 'come',\n",
              " 'pressure',\n",
              " 'advocate',\n",
              " 'presidential',\n",
              " 'authority',\n",
              " 'fight',\n",
              " 'house',\n",
              " 'matter',\n",
              " 'shared',\n",
              " 'view',\n",
              " 'health',\n",
              " 'care',\n",
              " 'since',\n",
              " 'precedent',\n",
              " 'could',\n",
              " 'broad',\n",
              " 'repercussion',\n",
              " 'complicated',\n",
              " 'set',\n",
              " 'dynamic',\n",
              " 'illustrating',\n",
              " 'quick',\n",
              " 'legal',\n",
              " 'victory',\n",
              " 'house',\n",
              " 'trump',\n",
              " 'era',\n",
              " 'might',\n",
              " 'come',\n",
              " 'cost',\n",
              " 'republican',\n",
              " 'never',\n",
              " 'anticipated',\n",
              " 'took',\n",
              " 'obama',\n",
              " 'white',\n",
              " 'house']"
            ]
          },
          "metadata": {},
          "execution_count": 106
        }
      ]
    },
    {
      "cell_type": "code",
      "source": [
        "def extract_features(articles, method='tf-idf'):\n",
        "    if method == 'tf-idf':\n",
        "        vectorizer = TfidfVectorizer()\n",
        "        feature_vectors = vectorizer.fit_transform(articles)\n",
        "        feature_names = vectorizer.get_feature_names_out()\n",
        "    elif method == 'countvectorizer':\n",
        "        vectorizer = CountVectorizer()\n",
        "        feature_vectors = vectorizer.fit_transform(articles)\n",
        "        feature_names = vectorizer.get_feature_names_out()\n",
        "    else:\n",
        "        raise ValueError('Invalid method specified.')\n",
        "    # TODO:\n",
        "      # Add word2vec\n",
        "    \n",
        "    return feature_vectors, feature_names"
      ],
      "metadata": {
        "id": "3tjQGjY1pnEa"
      },
      "execution_count": 107,
      "outputs": []
    },
    {
      "cell_type": "code",
      "source": [
        "# number of unique tokens\n",
        "total_tokens = preprocessed_articles.explode().nunique()\n",
        "print(total_tokens)"
      ],
      "metadata": {
        "id": "hZli9zb3jnNk",
        "outputId": "a39ff54c-84b6-4dcd-e00e-712352205896",
        "colab": {
          "base_uri": "https://localhost:8080/"
        }
      },
      "execution_count": 108,
      "outputs": [
        {
          "output_type": "stream",
          "name": "stdout",
          "text": [
            "152705\n"
          ]
        }
      ]
    },
    {
      "cell_type": "code",
      "source": [
        "# create Dictionary from preprocessed articles\n",
        "dictionary = Dictionary(preprocessed_articles)\n",
        "\n",
        "# filter out tokens that appear too much or too little\n",
        "dictionary.filter_extremes(no_below=10, no_above=0.5, keep_n=150000)"
      ],
      "metadata": {
        "id": "crziNCho1l5y"
      },
      "execution_count": 109,
      "outputs": []
    },
    {
      "cell_type": "markdown",
      "source": [
        "Use below cell to save new corpus bows instead of loading already saved ones (don't forget to update `CORPUS_BOW_URL` with the new gdrive link)"
      ],
      "metadata": {
        "id": "swnI90YEB_tU"
      }
    },
    {
      "cell_type": "code",
      "source": [
        "# bag of words corpus from dictionary\n",
        "#corpus_bow = Parallel(n_jobs=4)(delayed(dictionary.doc2bow)(article) for article in tqdm(preprocessed_articles, position=0, leave=True))\n",
        "# pickle.dump(corpus_bow, open(\"corpus_bow.pkl\", 'wb'))\n",
        "# !cp corpus_bow.pkl /content/drive/MyDrive/Edu/NLP"
      ],
      "metadata": {
        "id": "HoN9cWX08bNs"
      },
      "execution_count": 110,
      "outputs": []
    },
    {
      "cell_type": "code",
      "source": [
        "gdown.download(CORPUS_BOW_URL, fuzzy=True)"
      ],
      "metadata": {
        "colab": {
          "base_uri": "https://localhost:8080/",
          "height": 105
        },
        "id": "q_BYjoM98vSj",
        "outputId": "b1fe4f6b-a3fe-431d-9261-c06c314a298f"
      },
      "execution_count": 111,
      "outputs": [
        {
          "output_type": "stream",
          "name": "stderr",
          "text": [
            "Downloading...\n",
            "From: https://drive.google.com/uc?id=1-I72t_8jqxIukAdEaxRSBMAYJyfNAT8m\n",
            "To: /content/corpus_bow.pkl\n",
            "100%|██████████| 74.1M/74.1M [00:00<00:00, 208MB/s]\n"
          ]
        },
        {
          "output_type": "execute_result",
          "data": {
            "text/plain": [
              "'corpus_bow.pkl'"
            ],
            "application/vnd.google.colaboratory.intrinsic+json": {
              "type": "string"
            }
          },
          "metadata": {},
          "execution_count": 111
        }
      ]
    },
    {
      "cell_type": "code",
      "source": [
        "corpus_bow = pickle.load(open(\"corpus_bow.pkl\", \"rb\"))"
      ],
      "metadata": {
        "id": "5ouTnzX-9AvE"
      },
      "execution_count": 112,
      "outputs": []
    },
    {
      "cell_type": "markdown",
      "source": [
        "# Modelling"
      ],
      "metadata": {
        "id": "5l-ggiuAqcSC"
      }
    },
    {
      "cell_type": "code",
      "source": [
        "# create TF-IDF Model from corpus\n",
        "tfidf = TfidfModel(corpus_bow)\n",
        "\n",
        "# weighted tfidf corpus\n",
        "corpus_tfidf = tfidf[corpus_bow]"
      ],
      "metadata": {
        "id": "4cKndIfvjBf7"
      },
      "execution_count": 113,
      "outputs": []
    },
    {
      "cell_type": "code",
      "source": [
        "# Apply LDA with 12 topics\n",
        "lda_model = LdaModel(corpus=corpus_bow,\n",
        "                     id2word=dictionary,\n",
        "                     num_topics=12,\n",
        "                     passes=10,\n",
        "                     iterations=100)"
      ],
      "metadata": {
        "id": "MSWjrjxEnwNH"
      },
      "execution_count": null,
      "outputs": []
    },
    {
      "cell_type": "code",
      "source": [
        "topics = lda_model.show_topics(num_topics=12, num_words=12)\n",
        "for topic in topics:\n",
        "    print(topic)"
      ],
      "metadata": {
        "id": "EbFXPGZCn1N_"
      },
      "execution_count": null,
      "outputs": []
    },
    {
      "cell_type": "code",
      "source": [
        "# Apply LDA with 20 topics\n",
        "lda_model_20 = LdaModel(corpus=corpus_bow,\n",
        "                     id2word=dictionary,\n",
        "                     num_topics=20,\n",
        "                     passes=15,\n",
        "                     iterations=100)"
      ],
      "metadata": {
        "id": "18WFtC5twNN9"
      },
      "execution_count": null,
      "outputs": []
    },
    {
      "cell_type": "code",
      "source": [
        "topics = lda_model_20.show_topics(num_topics=20, num_words=15)\n",
        "for topic in topics:\n",
        "    print(topic)"
      ],
      "metadata": {
        "id": "phBZSKjFwNN-"
      },
      "execution_count": null,
      "outputs": []
    },
    {
      "cell_type": "code",
      "source": [
        "# Apply LDA with TF-IDF and 12 topics\n",
        "lda_model_tfidf = LdaModel(corpus_tfidf,\n",
        "                           id2word=dictionary,\n",
        "                           num_topics=12,\n",
        "                           passes=10,\n",
        "                           iterations=100)"
      ],
      "metadata": {
        "id": "BZ317jgnjext"
      },
      "execution_count": null,
      "outputs": []
    },
    {
      "cell_type": "code",
      "source": [
        "# Print the top 12 topics\n",
        "topics = lda_model_tfidf.show_topics(num_topics=12, num_words=15)\n",
        "for topic in topics:\n",
        "    print(topic)"
      ],
      "metadata": {
        "id": "-3y8fwm1jim6"
      },
      "execution_count": null,
      "outputs": []
    },
    {
      "cell_type": "markdown",
      "source": [
        "## Model Evaluation"
      ],
      "metadata": {
        "id": "R0WlZWATsJx6"
      }
    },
    {
      "cell_type": "code",
      "source": [
        "from gensim.models import CoherenceModel"
      ],
      "metadata": {
        "id": "5lXiGcBcsQcV"
      },
      "execution_count": null,
      "outputs": []
    },
    {
      "cell_type": "code",
      "source": [
        "# Compute Coherence Score\n",
        "coherence_model_lda = CoherenceModel(model=lda_model, texts=corpus_tfidf, dictionary=dictionary, coherence='c_v')\n",
        "coherence_lda = coherence_model_lda.get_coherence()\n",
        "print('Coherence Score: ', coherence_lda)"
      ],
      "metadata": {
        "id": "L6WX4wDrrGmp"
      },
      "execution_count": null,
      "outputs": []
    }
  ]
}