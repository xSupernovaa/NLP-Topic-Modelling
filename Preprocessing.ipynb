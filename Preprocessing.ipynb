{
  "nbformat": 4,
  "nbformat_minor": 0,
  "metadata": {
    "colab": {
      "provenance": []
    },
    "kernelspec": {
      "name": "python3",
      "display_name": "Python 3"
    },
    "language_info": {
      "name": "python"
    }
  },
  "cells": [
    {
      "cell_type": "markdown",
      "source": [
        "# Imports & Data Reading"
      ],
      "metadata": {
        "id": "Vaq75AiUqUuV"
      }
    },
    {
      "cell_type": "code",
      "execution_count": 1,
      "metadata": {
        "id": "CLoWQVFdXKBT",
        "outputId": "6f9509a7-1e9e-45c9-fb13-28e6da52714c",
        "colab": {
          "base_uri": "https://localhost:8080/"
        }
      },
      "outputs": [
        {
          "output_type": "stream",
          "name": "stderr",
          "text": [
            "[nltk_data] Downloading package punkt to /root/nltk_data...\n",
            "[nltk_data]   Unzipping tokenizers/punkt.zip.\n",
            "[nltk_data] Downloading package stopwords to /root/nltk_data...\n",
            "[nltk_data]   Unzipping corpora/stopwords.zip.\n",
            "[nltk_data] Downloading package wordnet to /root/nltk_data...\n"
          ]
        }
      ],
      "source": [
        "# Data loading\n",
        "from google.colab import drive\n",
        "import zipfile\n",
        "import pandas as pd\n",
        "import gdown\n",
        "import pickle\n",
        "# Preprocessing\n",
        "import re\n",
        "import string\n",
        "import nltk\n",
        "nltk.download('punkt')\n",
        "nltk.download('stopwords')\n",
        "nltk.download('wordnet')\n",
        "from nltk.tokenize import word_tokenize\n",
        "from nltk.corpus import stopwords\n",
        "from nltk.stem import WordNetLemmatizer\n",
        "stop_words = set(stopwords.words('english'))\n",
        "# Feature extraction\n",
        "import numpy as np\n",
        "from sklearn.feature_extraction.text import TfidfVectorizer, CountVectorizer\n",
        "import gensim\n",
        "from gensim.utils import simple_preprocess\n",
        "from gensim.parsing.preprocessing import STOPWORDS\n",
        "from gensim.corpora import Dictionary\n",
        "from gensim.models import TfidfModel, LdaModel, CoherenceModel\n",
        "\n",
        "\n",
        "# Util\n",
        "from tqdm import tqdm\n",
        "from pprint import pprint\n"
      ]
    },
    {
      "cell_type": "code",
      "source": [
        "drive.mount('/content/drive')"
      ],
      "metadata": {
        "id": "CO91Xqg8bCMk",
        "outputId": "97459213-8f94-4107-831f-9260e8b08753",
        "colab": {
          "base_uri": "https://localhost:8080/"
        }
      },
      "execution_count": 2,
      "outputs": [
        {
          "output_type": "stream",
          "name": "stdout",
          "text": [
            "Mounted at /content/drive\n"
          ]
        }
      ]
    },
    {
      "cell_type": "code",
      "source": [
        "DATA_URL = \"https://drive.google.com/file/d/10YvMpIzRSi_GXg91TkrQBL_3JKC5dni7/view?usp=sharing\"\n",
        "PREPROCESSED_ARTICLES_URL = \"https://drive.google.com/file/d/1-DQeGkgh-KmOe7uKFEmrj_GCqbKxNJbh/view?usp=sharing\"\n",
        "CORPUS_BOW_URL = \"https://drive.google.com/file/d/1-I72t_8jqxIukAdEaxRSBMAYJyfNAT8m/view?usp=sharing\""
      ],
      "metadata": {
        "id": "2PXLCYIdmiHy"
      },
      "execution_count": 3,
      "outputs": []
    },
    {
      "cell_type": "code",
      "source": [
        "gdown.download(DATA_URL, fuzzy=True)"
      ],
      "metadata": {
        "colab": {
          "base_uri": "https://localhost:8080/",
          "height": 104
        },
        "id": "dPM2CWH_mmJK",
        "outputId": "8dd0c3f0-b0a7-4113-d872-1b67f6bff7b8"
      },
      "execution_count": 4,
      "outputs": [
        {
          "output_type": "stream",
          "name": "stderr",
          "text": [
            "Downloading...\n",
            "From: https://drive.google.com/uc?id=10YvMpIzRSi_GXg91TkrQBL_3JKC5dni7\n",
            "To: /content/articles1.csv.zip\n",
            "100%|██████████| 77.4M/77.4M [00:00<00:00, 86.6MB/s]\n"
          ]
        },
        {
          "output_type": "execute_result",
          "data": {
            "text/plain": [
              "'articles1.csv.zip'"
            ],
            "application/vnd.google.colaboratory.intrinsic+json": {
              "type": "string"
            }
          },
          "metadata": {},
          "execution_count": 4
        }
      ]
    },
    {
      "cell_type": "code",
      "source": [
        "DATA_PATH = \"articles1.csv.zip\""
      ],
      "metadata": {
        "id": "dW2SfONWbs2U"
      },
      "execution_count": 5,
      "outputs": []
    },
    {
      "cell_type": "code",
      "source": [
        "# Extract the CSV file from the zip archive\n",
        "with zipfile.ZipFile(DATA_PATH, \"r\") as zip_ref:\n",
        "    zip_ref.extractall()\n",
        "\n",
        "# Load the CSV data into a Pandas DataFrame\n",
        "df = pd.read_csv(\"articles1.csv\")"
      ],
      "metadata": {
        "id": "hXlTLTZSbEDu"
      },
      "execution_count": 6,
      "outputs": []
    },
    {
      "cell_type": "code",
      "source": [
        "df.head()"
      ],
      "metadata": {
        "id": "Y01DNiQQUGZ_",
        "outputId": "d90e6288-c6d2-4b73-da80-3eb113c17937",
        "colab": {
          "base_uri": "https://localhost:8080/",
          "height": 354
        }
      },
      "execution_count": 7,
      "outputs": [
        {
          "output_type": "execute_result",
          "data": {
            "text/plain": [
              "   Unnamed: 0     id                                              title  \\\n",
              "0           0  17283  House Republicans Fret About Winning Their Hea...   \n",
              "1           1  17284  Rift Between Officers and Residents as Killing...   \n",
              "2           2  17285  Tyrus Wong, ‘Bambi’ Artist Thwarted by Racial ...   \n",
              "3           3  17286  Among Deaths in 2016, a Heavy Toll in Pop Musi...   \n",
              "4           4  17287  Kim Jong-un Says North Korea Is Preparing to T...   \n",
              "\n",
              "      publication                         author        date    year  month  \\\n",
              "0  New York Times                     Carl Hulse  2016-12-31  2016.0   12.0   \n",
              "1  New York Times  Benjamin Mueller and Al Baker  2017-06-19  2017.0    6.0   \n",
              "2  New York Times                   Margalit Fox  2017-01-06  2017.0    1.0   \n",
              "3  New York Times               William McDonald  2017-04-10  2017.0    4.0   \n",
              "4  New York Times                  Choe Sang-Hun  2017-01-02  2017.0    1.0   \n",
              "\n",
              "   url                                            content  \n",
              "0  NaN  WASHINGTON  —   Congressional Republicans have...  \n",
              "1  NaN  After the bullet shells get counted, the blood...  \n",
              "2  NaN  When Walt Disney’s “Bambi” opened in 1942, cri...  \n",
              "3  NaN  Death may be the great equalizer, but it isn’t...  \n",
              "4  NaN  SEOUL, South Korea  —   North Korea’s leader, ...  "
            ],
            "text/html": [
              "\n",
              "  <div id=\"df-15a2eb7f-7be5-4ab5-a8fe-5e2526a8456e\">\n",
              "    <div class=\"colab-df-container\">\n",
              "      <div>\n",
              "<style scoped>\n",
              "    .dataframe tbody tr th:only-of-type {\n",
              "        vertical-align: middle;\n",
              "    }\n",
              "\n",
              "    .dataframe tbody tr th {\n",
              "        vertical-align: top;\n",
              "    }\n",
              "\n",
              "    .dataframe thead th {\n",
              "        text-align: right;\n",
              "    }\n",
              "</style>\n",
              "<table border=\"1\" class=\"dataframe\">\n",
              "  <thead>\n",
              "    <tr style=\"text-align: right;\">\n",
              "      <th></th>\n",
              "      <th>Unnamed: 0</th>\n",
              "      <th>id</th>\n",
              "      <th>title</th>\n",
              "      <th>publication</th>\n",
              "      <th>author</th>\n",
              "      <th>date</th>\n",
              "      <th>year</th>\n",
              "      <th>month</th>\n",
              "      <th>url</th>\n",
              "      <th>content</th>\n",
              "    </tr>\n",
              "  </thead>\n",
              "  <tbody>\n",
              "    <tr>\n",
              "      <th>0</th>\n",
              "      <td>0</td>\n",
              "      <td>17283</td>\n",
              "      <td>House Republicans Fret About Winning Their Hea...</td>\n",
              "      <td>New York Times</td>\n",
              "      <td>Carl Hulse</td>\n",
              "      <td>2016-12-31</td>\n",
              "      <td>2016.0</td>\n",
              "      <td>12.0</td>\n",
              "      <td>NaN</td>\n",
              "      <td>WASHINGTON  —   Congressional Republicans have...</td>\n",
              "    </tr>\n",
              "    <tr>\n",
              "      <th>1</th>\n",
              "      <td>1</td>\n",
              "      <td>17284</td>\n",
              "      <td>Rift Between Officers and Residents as Killing...</td>\n",
              "      <td>New York Times</td>\n",
              "      <td>Benjamin Mueller and Al Baker</td>\n",
              "      <td>2017-06-19</td>\n",
              "      <td>2017.0</td>\n",
              "      <td>6.0</td>\n",
              "      <td>NaN</td>\n",
              "      <td>After the bullet shells get counted, the blood...</td>\n",
              "    </tr>\n",
              "    <tr>\n",
              "      <th>2</th>\n",
              "      <td>2</td>\n",
              "      <td>17285</td>\n",
              "      <td>Tyrus Wong, ‘Bambi’ Artist Thwarted by Racial ...</td>\n",
              "      <td>New York Times</td>\n",
              "      <td>Margalit Fox</td>\n",
              "      <td>2017-01-06</td>\n",
              "      <td>2017.0</td>\n",
              "      <td>1.0</td>\n",
              "      <td>NaN</td>\n",
              "      <td>When Walt Disney’s “Bambi” opened in 1942, cri...</td>\n",
              "    </tr>\n",
              "    <tr>\n",
              "      <th>3</th>\n",
              "      <td>3</td>\n",
              "      <td>17286</td>\n",
              "      <td>Among Deaths in 2016, a Heavy Toll in Pop Musi...</td>\n",
              "      <td>New York Times</td>\n",
              "      <td>William McDonald</td>\n",
              "      <td>2017-04-10</td>\n",
              "      <td>2017.0</td>\n",
              "      <td>4.0</td>\n",
              "      <td>NaN</td>\n",
              "      <td>Death may be the great equalizer, but it isn’t...</td>\n",
              "    </tr>\n",
              "    <tr>\n",
              "      <th>4</th>\n",
              "      <td>4</td>\n",
              "      <td>17287</td>\n",
              "      <td>Kim Jong-un Says North Korea Is Preparing to T...</td>\n",
              "      <td>New York Times</td>\n",
              "      <td>Choe Sang-Hun</td>\n",
              "      <td>2017-01-02</td>\n",
              "      <td>2017.0</td>\n",
              "      <td>1.0</td>\n",
              "      <td>NaN</td>\n",
              "      <td>SEOUL, South Korea  —   North Korea’s leader, ...</td>\n",
              "    </tr>\n",
              "  </tbody>\n",
              "</table>\n",
              "</div>\n",
              "      <button class=\"colab-df-convert\" onclick=\"convertToInteractive('df-15a2eb7f-7be5-4ab5-a8fe-5e2526a8456e')\"\n",
              "              title=\"Convert this dataframe to an interactive table.\"\n",
              "              style=\"display:none;\">\n",
              "        \n",
              "  <svg xmlns=\"http://www.w3.org/2000/svg\" height=\"24px\"viewBox=\"0 0 24 24\"\n",
              "       width=\"24px\">\n",
              "    <path d=\"M0 0h24v24H0V0z\" fill=\"none\"/>\n",
              "    <path d=\"M18.56 5.44l.94 2.06.94-2.06 2.06-.94-2.06-.94-.94-2.06-.94 2.06-2.06.94zm-11 1L8.5 8.5l.94-2.06 2.06-.94-2.06-.94L8.5 2.5l-.94 2.06-2.06.94zm10 10l.94 2.06.94-2.06 2.06-.94-2.06-.94-.94-2.06-.94 2.06-2.06.94z\"/><path d=\"M17.41 7.96l-1.37-1.37c-.4-.4-.92-.59-1.43-.59-.52 0-1.04.2-1.43.59L10.3 9.45l-7.72 7.72c-.78.78-.78 2.05 0 2.83L4 21.41c.39.39.9.59 1.41.59.51 0 1.02-.2 1.41-.59l7.78-7.78 2.81-2.81c.8-.78.8-2.07 0-2.86zM5.41 20L4 18.59l7.72-7.72 1.47 1.35L5.41 20z\"/>\n",
              "  </svg>\n",
              "      </button>\n",
              "      \n",
              "  <style>\n",
              "    .colab-df-container {\n",
              "      display:flex;\n",
              "      flex-wrap:wrap;\n",
              "      gap: 12px;\n",
              "    }\n",
              "\n",
              "    .colab-df-convert {\n",
              "      background-color: #E8F0FE;\n",
              "      border: none;\n",
              "      border-radius: 50%;\n",
              "      cursor: pointer;\n",
              "      display: none;\n",
              "      fill: #1967D2;\n",
              "      height: 32px;\n",
              "      padding: 0 0 0 0;\n",
              "      width: 32px;\n",
              "    }\n",
              "\n",
              "    .colab-df-convert:hover {\n",
              "      background-color: #E2EBFA;\n",
              "      box-shadow: 0px 1px 2px rgba(60, 64, 67, 0.3), 0px 1px 3px 1px rgba(60, 64, 67, 0.15);\n",
              "      fill: #174EA6;\n",
              "    }\n",
              "\n",
              "    [theme=dark] .colab-df-convert {\n",
              "      background-color: #3B4455;\n",
              "      fill: #D2E3FC;\n",
              "    }\n",
              "\n",
              "    [theme=dark] .colab-df-convert:hover {\n",
              "      background-color: #434B5C;\n",
              "      box-shadow: 0px 1px 3px 1px rgba(0, 0, 0, 0.15);\n",
              "      filter: drop-shadow(0px 1px 2px rgba(0, 0, 0, 0.3));\n",
              "      fill: #FFFFFF;\n",
              "    }\n",
              "  </style>\n",
              "\n",
              "      <script>\n",
              "        const buttonEl =\n",
              "          document.querySelector('#df-15a2eb7f-7be5-4ab5-a8fe-5e2526a8456e button.colab-df-convert');\n",
              "        buttonEl.style.display =\n",
              "          google.colab.kernel.accessAllowed ? 'block' : 'none';\n",
              "\n",
              "        async function convertToInteractive(key) {\n",
              "          const element = document.querySelector('#df-15a2eb7f-7be5-4ab5-a8fe-5e2526a8456e');\n",
              "          const dataTable =\n",
              "            await google.colab.kernel.invokeFunction('convertToInteractive',\n",
              "                                                     [key], {});\n",
              "          if (!dataTable) return;\n",
              "\n",
              "          const docLinkHtml = 'Like what you see? Visit the ' +\n",
              "            '<a target=\"_blank\" href=https://colab.research.google.com/notebooks/data_table.ipynb>data table notebook</a>'\n",
              "            + ' to learn more about interactive tables.';\n",
              "          element.innerHTML = '';\n",
              "          dataTable['output_type'] = 'display_data';\n",
              "          await google.colab.output.renderOutput(dataTable, element);\n",
              "          const docLink = document.createElement('div');\n",
              "          docLink.innerHTML = docLinkHtml;\n",
              "          element.appendChild(docLink);\n",
              "        }\n",
              "      </script>\n",
              "    </div>\n",
              "  </div>\n",
              "  "
            ]
          },
          "metadata": {},
          "execution_count": 7
        }
      ]
    },
    {
      "cell_type": "markdown",
      "source": [
        "# Preprocessing"
      ],
      "metadata": {
        "id": "PlE5WNvKqYcu"
      }
    },
    {
      "cell_type": "code",
      "source": [
        "# Extract title and content as its preprocessing will differ from other features\n",
        "articles =  df['title'] + ' ' + df['content']"
      ],
      "metadata": {
        "id": "RysPcCOWb4Zs"
      },
      "execution_count": 8,
      "outputs": []
    },
    {
      "cell_type": "code",
      "source": [
        "articles[0]"
      ],
      "metadata": {
        "id": "LzhqWbwDgsGX",
        "outputId": "d70ba170-65ca-4877-d8aa-175fe868066f",
        "colab": {
          "base_uri": "https://localhost:8080/",
          "height": 139
        }
      },
      "execution_count": 9,
      "outputs": [
        {
          "output_type": "execute_result",
          "data": {
            "text/plain": [
              "'House Republicans Fret About Winning Their Health Care Suit - The New York Times WASHINGTON  —   Congressional Republicans have a new fear when it comes to their    health care lawsuit against the Obama administration: They might win. The incoming Trump administration could choose to no longer defend the executive branch against the suit, which challenges the administration’s authority to spend billions of dollars on health insurance subsidies for   and   Americans, handing House Republicans a big victory on    issues. But a sudden loss of the disputed subsidies could conceivably cause the health care program to implode, leaving millions of people without access to health insurance before Republicans have prepared a replacement. That could lead to chaos in the insurance market and spur a political backlash just as Republicans gain full control of the government. To stave off that outcome, Republicans could find themselves in the awkward position of appropriating huge sums to temporarily prop up the Obama health care law, angering conservative voters who have been demanding an end to the law for years. In another twist, Donald J. Trump’s administration, worried about preserving executive branch prerogatives, could choose to fight its Republican allies in the House on some central questions in the dispute. Eager to avoid an ugly political pileup, Republicans on Capitol Hill and the Trump transition team are gaming out how to handle the lawsuit, which, after the election, has been put in limbo until at least late February by the United States Court of Appeals for the District of Columbia Circuit. They are not yet ready to divulge their strategy. “Given that this pending litigation involves the Obama administration and Congress, it would be inappropriate to comment,” said Phillip J. Blando, a spokesman for the Trump transition effort. “Upon taking office, the Trump administration will evaluate this case and all related aspects of the Affordable Care Act. ” In a potentially   decision in 2015, Judge Rosemary M. Collyer ruled that House Republicans had the standing to sue the executive branch over a spending dispute and that the Obama administration had been distributing the health insurance subsidies, in violation of the Constitution, without approval from Congress. The Justice Department, confident that Judge Collyer’s decision would be reversed, quickly appealed, and the subsidies have remained in place during the appeal. In successfully seeking a temporary halt in the proceedings after Mr. Trump won, House Republicans last month told the court that they “and the  ’s transition team currently are discussing potential options for resolution of this matter, to take effect after the  ’s inauguration on Jan. 20, 2017. ” The suspension of the case, House lawyers said, will “provide the   and his future administration time to consider whether to continue prosecuting or to otherwise resolve this appeal. ” Republican leadership officials in the House acknowledge the possibility of “cascading effects” if the   payments, which have totaled an estimated $13 billion, are suddenly stopped. Insurers that receive the subsidies in exchange for paying    costs such as deductibles and   for eligible consumers could race to drop coverage since they would be losing money. Over all, the loss of the subsidies could destabilize the entire program and cause a lack of confidence that leads other insurers to seek a quick exit as well. Anticipating that the Trump administration might not be inclined to mount a vigorous fight against the House Republicans given the  ’s dim view of the health care law, a team of lawyers this month sought to intervene in the case on behalf of two participants in the health care program. In their request, the lawyers predicted that a deal between House Republicans and the new administration to dismiss or settle the case “will produce devastating consequences for the individuals who receive these reductions, as well as for the nation’s health insurance and health care systems generally. ” No matter what happens, House Republicans say, they want to prevail on two overarching concepts: the congressional power of the purse, and the right of Congress to sue the executive branch if it violates the Constitution regarding that spending power. House Republicans contend that Congress never appropriated the money for the subsidies, as required by the Constitution. In the suit, which was initially championed by John A. Boehner, the House speaker at the time, and later in House committee reports, Republicans asserted that the administration, desperate for the funding, had required the Treasury Department to provide it despite widespread internal skepticism that the spending was proper. The White House said that the spending was a permanent part of the law passed in 2010, and that no annual appropriation was required  —   even though the administration initially sought one. Just as important to House Republicans, Judge Collyer found that Congress had the standing to sue the White House on this issue  —   a ruling that many legal experts said was flawed  —   and they want that precedent to be set to restore congressional leverage over the executive branch. But on spending power and standing, the Trump administration may come under pressure from advocates of presidential authority to fight the House no matter their shared views on health care, since those precedents could have broad repercussions. It is a complicated set of dynamics illustrating how a quick legal victory for the House in the Trump era might come with costs that Republicans never anticipated when they took on the Obama White House.'"
            ],
            "application/vnd.google.colaboratory.intrinsic+json": {
              "type": "string"
            }
          },
          "metadata": {},
          "execution_count": 9
        }
      ]
    },
    {
      "cell_type": "code",
      "source": [
        "def preprocess_articles(articles):\n",
        "\n",
        "  lemmatizer = WordNetLemmatizer()\n",
        "\n",
        "  # Remove punctuations and convert text to lowercase\n",
        "  words = gensim.utils.simple_preprocess(articles, deacc=True)\n",
        "    \n",
        "  # Remove stop words & punctuation \n",
        "  words = [word for word in words if word not in stop_words and word not in string.punctuation]\n",
        "  # Lemmatize\n",
        "  words = [lemmatizer.lemmatize(word) for word in words]\n",
        "\n",
        "  # remove all non-word and non-space\n",
        "  # words = re.sub(r'[^\\w\\s]', '', words) \n",
        "\n",
        "  return words\n"
      ],
      "metadata": {
        "id": "2N4aw8zYcbE-"
      },
      "execution_count": 10,
      "outputs": []
    },
    {
      "cell_type": "code",
      "source": [
        "# tqdm.pandas()\n",
        "# preprocessed_articles = articles.map(preprocess_articles)"
      ],
      "metadata": {
        "id": "Vu73tvGEf2-B"
      },
      "execution_count": 11,
      "outputs": []
    },
    {
      "cell_type": "markdown",
      "source": [
        "Use below cell to save new preprocessed articles instead of loading already saved ones (don't forget to update `PREPROCESSED_ARTICLES_URL` with the new gdrive link)"
      ],
      "metadata": {
        "id": "HCWjbQOOBqJE"
      }
    },
    {
      "cell_type": "code",
      "source": [
        "# from joblib import Parallel, delayed\n",
        "# preprocessed_articles = Parallel(n_jobs=4)(delayed(preprocess_articles)(article) for article in tqdm(articles, position=0, leave=True))\n",
        "# preprocessed_articles = pd.Series(preprocessed_articles)\n",
        "# pickle.dump(preprocessed_articles, open(\"preprocessed_articles.pkl\", \"wb\"))\n",
        "# !cp preprocessed_articles.pkl /content/drive/MyDrive/Edu/NLP"
      ],
      "metadata": {
        "id": "2a11Ol-kzVGD"
      },
      "execution_count": 12,
      "outputs": []
    },
    {
      "cell_type": "code",
      "source": [
        "gdown.download(PREPROCESSED_ARTICLES_URL, fuzzy=True)"
      ],
      "metadata": {
        "colab": {
          "base_uri": "https://localhost:8080/",
          "height": 104
        },
        "id": "DECUxG5fAS8E",
        "outputId": "18dd4973-4249-4f72-be3b-e4a0bba69d82"
      },
      "execution_count": 13,
      "outputs": [
        {
          "output_type": "stream",
          "name": "stderr",
          "text": [
            "Downloading...\n",
            "From: https://drive.google.com/uc?id=1-DQeGkgh-KmOe7uKFEmrj_GCqbKxNJbh\n",
            "To: /content/preprocessed_articles.pkl\n",
            "100%|██████████| 165M/165M [00:01<00:00, 87.1MB/s]\n"
          ]
        },
        {
          "output_type": "execute_result",
          "data": {
            "text/plain": [
              "'preprocessed_articles.pkl'"
            ],
            "application/vnd.google.colaboratory.intrinsic+json": {
              "type": "string"
            }
          },
          "metadata": {},
          "execution_count": 13
        }
      ]
    },
    {
      "cell_type": "code",
      "source": [
        "preprocessed_articles = pickle.load(open(\"preprocessed_articles.pkl\", \"rb\"))"
      ],
      "metadata": {
        "id": "bVB4-Ssv--vj"
      },
      "execution_count": 14,
      "outputs": []
    },
    {
      "cell_type": "code",
      "source": [
        "preprocessed_articles[0]"
      ],
      "metadata": {
        "id": "c1USf_noVr7Y",
        "outputId": "818c4b84-ebbf-427c-fdd6-0eafa5ad8103",
        "colab": {
          "base_uri": "https://localhost:8080/"
        }
      },
      "execution_count": 15,
      "outputs": [
        {
          "output_type": "execute_result",
          "data": {
            "text/plain": [
              "['house',\n",
              " 'republican',\n",
              " 'fret',\n",
              " 'winning',\n",
              " 'health',\n",
              " 'care',\n",
              " 'suit',\n",
              " 'new',\n",
              " 'york',\n",
              " 'time',\n",
              " 'washington',\n",
              " 'congressional',\n",
              " 'republican',\n",
              " 'new',\n",
              " 'fear',\n",
              " 'come',\n",
              " 'health',\n",
              " 'care',\n",
              " 'lawsuit',\n",
              " 'obama',\n",
              " 'administration',\n",
              " 'might',\n",
              " 'win',\n",
              " 'incoming',\n",
              " 'trump',\n",
              " 'administration',\n",
              " 'could',\n",
              " 'choose',\n",
              " 'longer',\n",
              " 'defend',\n",
              " 'executive',\n",
              " 'branch',\n",
              " 'suit',\n",
              " 'challenge',\n",
              " 'administration',\n",
              " 'authority',\n",
              " 'spend',\n",
              " 'billion',\n",
              " 'dollar',\n",
              " 'health',\n",
              " 'insurance',\n",
              " 'subsidy',\n",
              " 'american',\n",
              " 'handing',\n",
              " 'house',\n",
              " 'republican',\n",
              " 'big',\n",
              " 'victory',\n",
              " 'issue',\n",
              " 'sudden',\n",
              " 'loss',\n",
              " 'disputed',\n",
              " 'subsidy',\n",
              " 'could',\n",
              " 'conceivably',\n",
              " 'cause',\n",
              " 'health',\n",
              " 'care',\n",
              " 'program',\n",
              " 'implode',\n",
              " 'leaving',\n",
              " 'million',\n",
              " 'people',\n",
              " 'without',\n",
              " 'access',\n",
              " 'health',\n",
              " 'insurance',\n",
              " 'republican',\n",
              " 'prepared',\n",
              " 'replacement',\n",
              " 'could',\n",
              " 'lead',\n",
              " 'chaos',\n",
              " 'insurance',\n",
              " 'market',\n",
              " 'spur',\n",
              " 'political',\n",
              " 'backlash',\n",
              " 'republican',\n",
              " 'gain',\n",
              " 'full',\n",
              " 'control',\n",
              " 'government',\n",
              " 'stave',\n",
              " 'outcome',\n",
              " 'republican',\n",
              " 'could',\n",
              " 'find',\n",
              " 'awkward',\n",
              " 'position',\n",
              " 'appropriating',\n",
              " 'huge',\n",
              " 'sum',\n",
              " 'temporarily',\n",
              " 'prop',\n",
              " 'obama',\n",
              " 'health',\n",
              " 'care',\n",
              " 'law',\n",
              " 'angering',\n",
              " 'conservative',\n",
              " 'voter',\n",
              " 'demanding',\n",
              " 'end',\n",
              " 'law',\n",
              " 'year',\n",
              " 'another',\n",
              " 'twist',\n",
              " 'donald',\n",
              " 'trump',\n",
              " 'administration',\n",
              " 'worried',\n",
              " 'preserving',\n",
              " 'executive',\n",
              " 'branch',\n",
              " 'prerogative',\n",
              " 'could',\n",
              " 'choose',\n",
              " 'fight',\n",
              " 'republican',\n",
              " 'ally',\n",
              " 'house',\n",
              " 'central',\n",
              " 'question',\n",
              " 'dispute',\n",
              " 'eager',\n",
              " 'avoid',\n",
              " 'ugly',\n",
              " 'political',\n",
              " 'pileup',\n",
              " 'republican',\n",
              " 'capitol',\n",
              " 'hill',\n",
              " 'trump',\n",
              " 'transition',\n",
              " 'team',\n",
              " 'gaming',\n",
              " 'handle',\n",
              " 'lawsuit',\n",
              " 'election',\n",
              " 'put',\n",
              " 'limbo',\n",
              " 'least',\n",
              " 'late',\n",
              " 'february',\n",
              " 'united',\n",
              " 'state',\n",
              " 'court',\n",
              " 'appeal',\n",
              " 'district',\n",
              " 'columbia',\n",
              " 'circuit',\n",
              " 'yet',\n",
              " 'ready',\n",
              " 'divulge',\n",
              " 'strategy',\n",
              " 'given',\n",
              " 'pending',\n",
              " 'litigation',\n",
              " 'involves',\n",
              " 'obama',\n",
              " 'administration',\n",
              " 'congress',\n",
              " 'would',\n",
              " 'inappropriate',\n",
              " 'comment',\n",
              " 'said',\n",
              " 'phillip',\n",
              " 'blando',\n",
              " 'spokesman',\n",
              " 'trump',\n",
              " 'transition',\n",
              " 'effort',\n",
              " 'upon',\n",
              " 'taking',\n",
              " 'office',\n",
              " 'trump',\n",
              " 'administration',\n",
              " 'evaluate',\n",
              " 'case',\n",
              " 'related',\n",
              " 'aspect',\n",
              " 'affordable',\n",
              " 'care',\n",
              " 'act',\n",
              " 'potentially',\n",
              " 'decision',\n",
              " 'judge',\n",
              " 'rosemary',\n",
              " 'collyer',\n",
              " 'ruled',\n",
              " 'house',\n",
              " 'republican',\n",
              " 'standing',\n",
              " 'sue',\n",
              " 'executive',\n",
              " 'branch',\n",
              " 'spending',\n",
              " 'dispute',\n",
              " 'obama',\n",
              " 'administration',\n",
              " 'distributing',\n",
              " 'health',\n",
              " 'insurance',\n",
              " 'subsidy',\n",
              " 'violation',\n",
              " 'constitution',\n",
              " 'without',\n",
              " 'approval',\n",
              " 'congress',\n",
              " 'justice',\n",
              " 'department',\n",
              " 'confident',\n",
              " 'judge',\n",
              " 'collyer',\n",
              " 'decision',\n",
              " 'would',\n",
              " 'reversed',\n",
              " 'quickly',\n",
              " 'appealed',\n",
              " 'subsidy',\n",
              " 'remained',\n",
              " 'place',\n",
              " 'appeal',\n",
              " 'successfully',\n",
              " 'seeking',\n",
              " 'temporary',\n",
              " 'halt',\n",
              " 'proceeding',\n",
              " 'mr',\n",
              " 'trump',\n",
              " 'house',\n",
              " 'republican',\n",
              " 'last',\n",
              " 'month',\n",
              " 'told',\n",
              " 'court',\n",
              " 'transition',\n",
              " 'team',\n",
              " 'currently',\n",
              " 'discussing',\n",
              " 'potential',\n",
              " 'option',\n",
              " 'resolution',\n",
              " 'matter',\n",
              " 'take',\n",
              " 'effect',\n",
              " 'inauguration',\n",
              " 'jan',\n",
              " 'suspension',\n",
              " 'case',\n",
              " 'house',\n",
              " 'lawyer',\n",
              " 'said',\n",
              " 'provide',\n",
              " 'future',\n",
              " 'administration',\n",
              " 'time',\n",
              " 'consider',\n",
              " 'whether',\n",
              " 'continue',\n",
              " 'prosecuting',\n",
              " 'otherwise',\n",
              " 'resolve',\n",
              " 'appeal',\n",
              " 'republican',\n",
              " 'leadership',\n",
              " 'official',\n",
              " 'house',\n",
              " 'acknowledge',\n",
              " 'possibility',\n",
              " 'cascading',\n",
              " 'effect',\n",
              " 'payment',\n",
              " 'totaled',\n",
              " 'estimated',\n",
              " 'billion',\n",
              " 'suddenly',\n",
              " 'stopped',\n",
              " 'insurer',\n",
              " 'receive',\n",
              " 'subsidy',\n",
              " 'exchange',\n",
              " 'paying',\n",
              " 'cost',\n",
              " 'deductible',\n",
              " 'eligible',\n",
              " 'consumer',\n",
              " 'could',\n",
              " 'race',\n",
              " 'drop',\n",
              " 'coverage',\n",
              " 'since',\n",
              " 'would',\n",
              " 'losing',\n",
              " 'money',\n",
              " 'loss',\n",
              " 'subsidy',\n",
              " 'could',\n",
              " 'destabilize',\n",
              " 'entire',\n",
              " 'program',\n",
              " 'cause',\n",
              " 'lack',\n",
              " 'confidence',\n",
              " 'lead',\n",
              " 'insurer',\n",
              " 'seek',\n",
              " 'quick',\n",
              " 'exit',\n",
              " 'well',\n",
              " 'anticipating',\n",
              " 'trump',\n",
              " 'administration',\n",
              " 'might',\n",
              " 'inclined',\n",
              " 'mount',\n",
              " 'vigorous',\n",
              " 'fight',\n",
              " 'house',\n",
              " 'republican',\n",
              " 'given',\n",
              " 'dim',\n",
              " 'view',\n",
              " 'health',\n",
              " 'care',\n",
              " 'law',\n",
              " 'team',\n",
              " 'lawyer',\n",
              " 'month',\n",
              " 'sought',\n",
              " 'intervene',\n",
              " 'case',\n",
              " 'behalf',\n",
              " 'two',\n",
              " 'participant',\n",
              " 'health',\n",
              " 'care',\n",
              " 'program',\n",
              " 'request',\n",
              " 'lawyer',\n",
              " 'predicted',\n",
              " 'deal',\n",
              " 'house',\n",
              " 'republican',\n",
              " 'new',\n",
              " 'administration',\n",
              " 'dismiss',\n",
              " 'settle',\n",
              " 'case',\n",
              " 'produce',\n",
              " 'devastating',\n",
              " 'consequence',\n",
              " 'individual',\n",
              " 'receive',\n",
              " 'reduction',\n",
              " 'well',\n",
              " 'nation',\n",
              " 'health',\n",
              " 'insurance',\n",
              " 'health',\n",
              " 'care',\n",
              " 'system',\n",
              " 'generally',\n",
              " 'matter',\n",
              " 'happens',\n",
              " 'house',\n",
              " 'republican',\n",
              " 'say',\n",
              " 'want',\n",
              " 'prevail',\n",
              " 'two',\n",
              " 'overarching',\n",
              " 'concept',\n",
              " 'congressional',\n",
              " 'power',\n",
              " 'purse',\n",
              " 'right',\n",
              " 'congress',\n",
              " 'sue',\n",
              " 'executive',\n",
              " 'branch',\n",
              " 'violates',\n",
              " 'constitution',\n",
              " 'regarding',\n",
              " 'spending',\n",
              " 'power',\n",
              " 'house',\n",
              " 'republican',\n",
              " 'contend',\n",
              " 'congress',\n",
              " 'never',\n",
              " 'appropriated',\n",
              " 'money',\n",
              " 'subsidy',\n",
              " 'required',\n",
              " 'constitution',\n",
              " 'suit',\n",
              " 'initially',\n",
              " 'championed',\n",
              " 'john',\n",
              " 'boehner',\n",
              " 'house',\n",
              " 'speaker',\n",
              " 'time',\n",
              " 'later',\n",
              " 'house',\n",
              " 'committee',\n",
              " 'report',\n",
              " 'republican',\n",
              " 'asserted',\n",
              " 'administration',\n",
              " 'desperate',\n",
              " 'funding',\n",
              " 'required',\n",
              " 'treasury',\n",
              " 'department',\n",
              " 'provide',\n",
              " 'despite',\n",
              " 'widespread',\n",
              " 'internal',\n",
              " 'skepticism',\n",
              " 'spending',\n",
              " 'proper',\n",
              " 'white',\n",
              " 'house',\n",
              " 'said',\n",
              " 'spending',\n",
              " 'permanent',\n",
              " 'part',\n",
              " 'law',\n",
              " 'passed',\n",
              " 'annual',\n",
              " 'appropriation',\n",
              " 'required',\n",
              " 'even',\n",
              " 'though',\n",
              " 'administration',\n",
              " 'initially',\n",
              " 'sought',\n",
              " 'one',\n",
              " 'important',\n",
              " 'house',\n",
              " 'republican',\n",
              " 'judge',\n",
              " 'collyer',\n",
              " 'found',\n",
              " 'congress',\n",
              " 'standing',\n",
              " 'sue',\n",
              " 'white',\n",
              " 'house',\n",
              " 'issue',\n",
              " 'ruling',\n",
              " 'many',\n",
              " 'legal',\n",
              " 'expert',\n",
              " 'said',\n",
              " 'flawed',\n",
              " 'want',\n",
              " 'precedent',\n",
              " 'set',\n",
              " 'restore',\n",
              " 'congressional',\n",
              " 'leverage',\n",
              " 'executive',\n",
              " 'branch',\n",
              " 'spending',\n",
              " 'power',\n",
              " 'standing',\n",
              " 'trump',\n",
              " 'administration',\n",
              " 'may',\n",
              " 'come',\n",
              " 'pressure',\n",
              " 'advocate',\n",
              " 'presidential',\n",
              " 'authority',\n",
              " 'fight',\n",
              " 'house',\n",
              " 'matter',\n",
              " 'shared',\n",
              " 'view',\n",
              " 'health',\n",
              " 'care',\n",
              " 'since',\n",
              " 'precedent',\n",
              " 'could',\n",
              " 'broad',\n",
              " 'repercussion',\n",
              " 'complicated',\n",
              " 'set',\n",
              " 'dynamic',\n",
              " 'illustrating',\n",
              " 'quick',\n",
              " 'legal',\n",
              " 'victory',\n",
              " 'house',\n",
              " 'trump',\n",
              " 'era',\n",
              " 'might',\n",
              " 'come',\n",
              " 'cost',\n",
              " 'republican',\n",
              " 'never',\n",
              " 'anticipated',\n",
              " 'took',\n",
              " 'obama',\n",
              " 'white',\n",
              " 'house']"
            ]
          },
          "metadata": {},
          "execution_count": 15
        }
      ]
    },
    {
      "cell_type": "code",
      "source": [
        "def extract_features(articles, method='tf-idf'):\n",
        "    if method == 'tf-idf':\n",
        "        vectorizer = TfidfVectorizer()\n",
        "        feature_vectors = vectorizer.fit_transform(articles)\n",
        "        feature_names = vectorizer.get_feature_names_out()\n",
        "    elif method == 'countvectorizer':\n",
        "        vectorizer = CountVectorizer()\n",
        "        feature_vectors = vectorizer.fit_transform(articles)\n",
        "        feature_names = vectorizer.get_feature_names_out()\n",
        "    else:\n",
        "        raise ValueError('Invalid method specified.')\n",
        "    # TODO:\n",
        "      # Add word2vec\n",
        "    \n",
        "    return feature_vectors, feature_names"
      ],
      "metadata": {
        "id": "3tjQGjY1pnEa"
      },
      "execution_count": 16,
      "outputs": []
    },
    {
      "cell_type": "code",
      "source": [
        "# number of unique tokens\n",
        "total_tokens = preprocessed_articles.explode().nunique()\n",
        "print(total_tokens)"
      ],
      "metadata": {
        "id": "hZli9zb3jnNk",
        "outputId": "aa464746-28b0-47ba-f0ef-346dfaa0072f",
        "colab": {
          "base_uri": "https://localhost:8080/"
        }
      },
      "execution_count": 17,
      "outputs": [
        {
          "output_type": "stream",
          "name": "stdout",
          "text": [
            "152705\n"
          ]
        }
      ]
    },
    {
      "cell_type": "code",
      "source": [
        "# create Dictionary from preprocessed articles\n",
        "dictionary = Dictionary(preprocessed_articles)\n",
        "\n",
        "# filter out tokens that appear too much or too little\n",
        "dictionary.filter_extremes(no_below=10, no_above=0.5, keep_n=150000)"
      ],
      "metadata": {
        "id": "crziNCho1l5y"
      },
      "execution_count": 18,
      "outputs": []
    },
    {
      "cell_type": "markdown",
      "source": [
        "Use below cell to save new corpus bows instead of loading already saved ones (don't forget to update `CORPUS_BOW_URL` with the new gdrive link)"
      ],
      "metadata": {
        "id": "swnI90YEB_tU"
      }
    },
    {
      "cell_type": "code",
      "source": [
        "# bag of words corpus from dictionary\n",
        "#corpus_bow = Parallel(n_jobs=4)(delayed(dictionary.doc2bow)(article) for article in tqdm(preprocessed_articles, position=0, leave=True))\n",
        "# pickle.dump(corpus_bow, open(\"corpus_bow.pkl\", 'wb'))\n",
        "# !cp corpus_bow.pkl /content/drive/MyDrive/Edu/NLP"
      ],
      "metadata": {
        "id": "HoN9cWX08bNs"
      },
      "execution_count": 19,
      "outputs": []
    },
    {
      "cell_type": "code",
      "source": [
        "gdown.download(CORPUS_BOW_URL, fuzzy=True)"
      ],
      "metadata": {
        "colab": {
          "base_uri": "https://localhost:8080/",
          "height": 104
        },
        "id": "q_BYjoM98vSj",
        "outputId": "aac5c36e-ad32-4f6d-960f-d7a32ab58424"
      },
      "execution_count": 20,
      "outputs": [
        {
          "output_type": "stream",
          "name": "stderr",
          "text": [
            "Downloading...\n",
            "From: https://drive.google.com/uc?id=1-I72t_8jqxIukAdEaxRSBMAYJyfNAT8m\n",
            "To: /content/corpus_bow.pkl\n",
            "100%|██████████| 74.1M/74.1M [00:00<00:00, 160MB/s]\n"
          ]
        },
        {
          "output_type": "execute_result",
          "data": {
            "text/plain": [
              "'corpus_bow.pkl'"
            ],
            "application/vnd.google.colaboratory.intrinsic+json": {
              "type": "string"
            }
          },
          "metadata": {},
          "execution_count": 20
        }
      ]
    },
    {
      "cell_type": "code",
      "source": [
        "corpus_bow = pickle.load(open(\"corpus_bow.pkl\", \"rb\"))"
      ],
      "metadata": {
        "id": "5ouTnzX-9AvE"
      },
      "execution_count": 21,
      "outputs": []
    },
    {
      "cell_type": "markdown",
      "source": [
        "# Modelling"
      ],
      "metadata": {
        "id": "5l-ggiuAqcSC"
      }
    },
    {
      "cell_type": "code",
      "source": [
        "# create TF-IDF Model from corpus\n",
        "tfidf = TfidfModel(corpus_bow)\n",
        "\n",
        "# weighted tfidf corpus\n",
        "corpus_tfidf = tfidf[corpus_bow]"
      ],
      "metadata": {
        "id": "4cKndIfvjBf7"
      },
      "execution_count": 22,
      "outputs": []
    },
    {
      "cell_type": "code",
      "source": [
        "# Apply LDA with 12 topics\n",
        "lda_model = LdaModel(corpus=corpus_bow,\n",
        "                     id2word=dictionary,\n",
        "                     num_topics=12,\n",
        "                     passes=10,\n",
        "                     iterations=100)"
      ],
      "metadata": {
        "id": "MSWjrjxEnwNH"
      },
      "execution_count": 23,
      "outputs": []
    },
    {
      "cell_type": "code",
      "source": [
        "topics = lda_model.show_topics(num_topics=12, num_words=12)\n",
        "for topic in topics:\n",
        "    print(topic)"
      ],
      "metadata": {
        "id": "EbFXPGZCn1N_",
        "outputId": "c5642645-9219-4979-dd66-98573d9689a6",
        "colab": {
          "base_uri": "https://localhost:8080/"
        }
      },
      "execution_count": 24,
      "outputs": [
        {
          "output_type": "stream",
          "name": "stdout",
          "text": [
            "(0, '0.009*\"cnn\" + 0.007*\"city\" + 0.006*\"two\" + 0.005*\"day\" + 0.005*\"team\" + 0.005*\"first\" + 0.004*\"told\" + 0.004*\"home\" + 0.004*\"water\" + 0.004*\"area\" + 0.004*\"game\" + 0.004*\"car\"')\n",
            "(1, '0.012*\"woman\" + 0.011*\"twitter\" + 0.011*\"black\" + 0.010*\"student\" + 0.010*\"news\" + 0.010*\"medium\" + 0.007*\"breitbart\" + 0.007*\"white\" + 0.007*\"university\" + 0.006*\"school\" + 0.006*\"right\" + 0.006*\"group\"')\n",
            "(2, '0.019*\"trump\" + 0.012*\"clinton\" + 0.012*\"president\" + 0.010*\"house\" + 0.008*\"russia\" + 0.008*\"email\" + 0.007*\"white\" + 0.007*\"official\" + 0.007*\"russian\" + 0.007*\"investigation\" + 0.007*\"fbi\" + 0.006*\"cnn\"')\n",
            "(3, '0.012*\"like\" + 0.010*\"say\" + 0.008*\"get\" + 0.007*\"know\" + 0.007*\"thing\" + 0.007*\"think\" + 0.006*\"way\" + 0.006*\"going\" + 0.006*\"even\" + 0.005*\"make\" + 0.005*\"want\" + 0.005*\"life\"')\n",
            "(4, '0.012*\"u\" + 0.010*\"attack\" + 0.010*\"isi\" + 0.009*\"state\" + 0.008*\"country\" + 0.008*\"military\" + 0.006*\"group\" + 0.006*\"war\" + 0.006*\"syria\" + 0.006*\"force\" + 0.006*\"united\" + 0.005*\"north\"')\n",
            "(5, '0.018*\"china\" + 0.011*\"million\" + 0.010*\"bank\" + 0.009*\"money\" + 0.009*\"world\" + 0.009*\"fund\" + 0.008*\"chinese\" + 0.008*\"country\" + 0.007*\"government\" + 0.006*\"cuban\" + 0.005*\"financial\" + 0.004*\"international\"')\n",
            "(6, '0.009*\"state\" + 0.009*\"american\" + 0.007*\"policy\" + 0.007*\"president\" + 0.007*\"government\" + 0.007*\"obama\" + 0.006*\"u\" + 0.006*\"tax\" + 0.006*\"bill\" + 0.006*\"country\" + 0.006*\"plan\" + 0.006*\"house\"')\n",
            "(7, '0.023*\"police\" + 0.013*\"officer\" + 0.011*\"court\" + 0.008*\"law\" + 0.007*\"case\" + 0.007*\"gun\" + 0.007*\"state\" + 0.005*\"shooting\" + 0.005*\"told\" + 0.005*\"death\" + 0.005*\"according\" + 0.005*\"two\"')\n",
            "(8, '0.059*\"trump\" + 0.017*\"clinton\" + 0.014*\"republican\" + 0.012*\"donald\" + 0.011*\"campaign\" + 0.009*\"president\" + 0.008*\"election\" + 0.007*\"party\" + 0.007*\"presidential\" + 0.007*\"state\" + 0.007*\"candidate\" + 0.007*\"vote\"')\n",
            "(9, '0.010*\"health\" + 0.009*\"study\" + 0.008*\"drug\" + 0.006*\"child\" + 0.006*\"according\" + 0.006*\"percent\" + 0.006*\"medical\" + 0.006*\"state\" + 0.006*\"woman\" + 0.006*\"found\" + 0.005*\"may\" + 0.005*\"research\"')\n",
            "(10, '0.023*\"company\" + 0.011*\"business\" + 0.007*\"apple\" + 0.006*\"market\" + 0.006*\"tesla\" + 0.006*\"ceo\" + 0.005*\"car\" + 0.005*\"million\" + 0.005*\"google\" + 0.005*\"insider\" + 0.005*\"billion\" + 0.004*\"like\"')\n",
            "(11, '0.010*\"show\" + 0.007*\"star\" + 0.007*\"film\" + 0.006*\"first\" + 0.005*\"movie\" + 0.004*\"season\" + 0.004*\"best\" + 0.004*\"last\" + 0.004*\"may\" + 0.004*\"series\" + 0.004*\"london\" + 0.004*\"fan\"')\n"
          ]
        }
      ]
    },
    {
      "cell_type": "code",
      "source": [
        "# Apply LDA with 20 topics\n",
        "lda_model_20 = LdaModel(corpus=corpus_bow,\n",
        "                     id2word=dictionary,\n",
        "                     num_topics=20,\n",
        "                     passes=15,\n",
        "                     iterations=100)"
      ],
      "metadata": {
        "id": "18WFtC5twNN9"
      },
      "execution_count": 25,
      "outputs": []
    },
    {
      "cell_type": "code",
      "source": [
        "topics = lda_model_20.show_topics(num_topics=20, num_words=15)\n",
        "for topic in topics:\n",
        "    print(topic)"
      ],
      "metadata": {
        "id": "phBZSKjFwNN-",
        "outputId": "1825e698-4eca-482a-c149-e85026e02601",
        "colab": {
          "base_uri": "https://localhost:8080/"
        }
      },
      "execution_count": 26,
      "outputs": [
        {
          "output_type": "stream",
          "name": "stdout",
          "text": [
            "(0, '0.010*\"show\" + 0.006*\"star\" + 0.006*\"like\" + 0.006*\"film\" + 0.005*\"movie\" + 0.004*\"first\" + 0.004*\"book\" + 0.004*\"world\" + 0.003*\"best\" + 0.003*\"series\" + 0.003*\"story\" + 0.003*\"music\" + 0.003*\"character\" + 0.003*\"made\" + 0.003*\"work\"')\n",
            "(1, '0.066*\"gun\" + 0.018*\"rio\" + 0.016*\"olympic\" + 0.014*\"gold\" + 0.014*\"second\" + 0.011*\"olympics\" + 0.011*\"medal\" + 0.010*\"control\" + 0.010*\"la\" + 0.010*\"amendment\" + 0.010*\"shooting\" + 0.010*\"brazil\" + 0.009*\"award\" + 0.009*\"breitbart\" + 0.009*\"american\"')\n",
            "(2, '0.020*\"state\" + 0.019*\"law\" + 0.017*\"court\" + 0.011*\"federal\" + 0.011*\"immigration\" + 0.009*\"order\" + 0.009*\"government\" + 0.009*\"country\" + 0.008*\"president\" + 0.008*\"border\" + 0.007*\"united\" + 0.007*\"administration\" + 0.007*\"immigrant\" + 0.007*\"policy\" + 0.007*\"obama\"')\n",
            "(3, '0.107*\"trump\" + 0.028*\"clinton\" + 0.019*\"donald\" + 0.016*\"president\" + 0.015*\"campaign\" + 0.011*\"hillary\" + 0.009*\"obama\" + 0.008*\"presidential\" + 0.006*\"republican\" + 0.006*\"cnn\" + 0.005*\"say\" + 0.005*\"election\" + 0.005*\"white\" + 0.005*\"speech\" + 0.005*\"candidate\"')\n",
            "(4, '0.017*\"health\" + 0.011*\"study\" + 0.011*\"drug\" + 0.008*\"medical\" + 0.007*\"patient\" + 0.007*\"disease\" + 0.006*\"research\" + 0.006*\"case\" + 0.006*\"doctor\" + 0.006*\"may\" + 0.005*\"found\" + 0.005*\"woman\" + 0.005*\"care\" + 0.005*\"researcher\" + 0.005*\"dr\"')\n",
            "(5, '0.021*\"say\" + 0.018*\"like\" + 0.017*\"think\" + 0.014*\"get\" + 0.013*\"thing\" + 0.013*\"going\" + 0.012*\"know\" + 0.012*\"want\" + 0.011*\"way\" + 0.011*\"make\" + 0.009*\"u\" + 0.009*\"even\" + 0.008*\"need\" + 0.008*\"really\" + 0.008*\"see\"')\n",
            "(6, '0.014*\"minister\" + 0.013*\"israel\" + 0.013*\"european\" + 0.011*\"party\" + 0.010*\"prime\" + 0.010*\"europe\" + 0.010*\"london\" + 0.009*\"britain\" + 0.009*\"country\" + 0.008*\"migrant\" + 0.008*\"germany\" + 0.008*\"british\" + 0.008*\"france\" + 0.007*\"israeli\" + 0.007*\"may\"')\n",
            "(7, '0.011*\"church\" + 0.009*\"march\" + 0.009*\"day\" + 0.008*\"twitter\" + 0.007*\"july\" + 0.007*\"pic\" + 0.007*\"u\" + 0.007*\"life\" + 0.007*\"king\" + 0.006*\"death\" + 0.006*\"june\" + 0.006*\"flag\" + 0.006*\"february\" + 0.006*\"family\" + 0.005*\"first\"')\n",
            "(8, '0.017*\"president\" + 0.016*\"u\" + 0.013*\"obama\" + 0.013*\"state\" + 0.010*\"russia\" + 0.010*\"united\" + 0.009*\"country\" + 0.008*\"war\" + 0.008*\"world\" + 0.008*\"government\" + 0.007*\"american\" + 0.006*\"iran\" + 0.006*\"russian\" + 0.006*\"administration\" + 0.006*\"leader\"')\n",
            "(9, '0.019*\"student\" + 0.018*\"black\" + 0.017*\"school\" + 0.017*\"woman\" + 0.014*\"university\" + 0.011*\"white\" + 0.010*\"right\" + 0.009*\"group\" + 0.009*\"community\" + 0.008*\"college\" + 0.007*\"protest\" + 0.006*\"education\" + 0.006*\"gay\" + 0.006*\"public\" + 0.005*\"men\"')\n",
            "(10, '0.023*\"news\" + 0.016*\"medium\" + 0.016*\"facebook\" + 0.014*\"twitter\" + 0.013*\"breitbart\" + 0.012*\"apple\" + 0.010*\"google\" + 0.009*\"video\" + 0.008*\"user\" + 0.007*\"show\" + 0.007*\"network\" + 0.006*\"post\" + 0.006*\"social\" + 0.006*\"story\" + 0.006*\"fox\"')\n",
            "(11, '0.025*\"republican\" + 0.014*\"vote\" + 0.012*\"party\" + 0.012*\"state\" + 0.011*\"voter\" + 0.010*\"democrat\" + 0.010*\"cruz\" + 0.009*\"election\" + 0.009*\"poll\" + 0.008*\"candidate\" + 0.008*\"trump\" + 0.008*\"gop\" + 0.007*\"house\" + 0.007*\"senate\" + 0.007*\"democratic\"')\n",
            "(12, '0.022*\"attack\" + 0.018*\"isi\" + 0.011*\"group\" + 0.010*\"muslim\" + 0.009*\"terrorist\" + 0.008*\"killed\" + 0.008*\"syria\" + 0.008*\"state\" + 0.007*\"force\" + 0.007*\"islamic\" + 0.007*\"iraq\" + 0.006*\"military\" + 0.006*\"syrian\" + 0.006*\"security\" + 0.005*\"official\"')\n",
            "(13, '0.017*\"game\" + 0.015*\"team\" + 0.009*\"first\" + 0.008*\"player\" + 0.007*\"win\" + 0.007*\"season\" + 0.006*\"sport\" + 0.006*\"two\" + 0.006*\"final\" + 0.005*\"world\" + 0.005*\"second\" + 0.005*\"last\" + 0.005*\"play\" + 0.005*\"back\" + 0.004*\"football\"')\n",
            "(14, '0.018*\"company\" + 0.011*\"business\" + 0.009*\"million\" + 0.007*\"market\" + 0.006*\"billion\" + 0.005*\"money\" + 0.005*\"price\" + 0.005*\"tax\" + 0.005*\"job\" + 0.004*\"tesla\" + 0.004*\"could\" + 0.004*\"cost\" + 0.004*\"plan\" + 0.004*\"according\" + 0.004*\"industry\"')\n",
            "(15, '0.009*\"city\" + 0.007*\"cnn\" + 0.007*\"water\" + 0.006*\"car\" + 0.006*\"area\" + 0.005*\"flight\" + 0.004*\"could\" + 0.004*\"fire\" + 0.004*\"building\" + 0.004*\"space\" + 0.004*\"day\" + 0.004*\"plane\" + 0.003*\"airline\" + 0.003*\"according\" + 0.003*\"home\"')\n",
            "(16, '0.012*\"clinton\" + 0.012*\"house\" + 0.011*\"investigation\" + 0.010*\"email\" + 0.010*\"fbi\" + 0.010*\"official\" + 0.009*\"intelligence\" + 0.008*\"comey\" + 0.008*\"committee\" + 0.007*\"president\" + 0.007*\"department\" + 0.007*\"white\" + 0.007*\"russian\" + 0.007*\"former\" + 0.007*\"information\"')\n",
            "(17, '0.015*\"family\" + 0.012*\"child\" + 0.011*\"told\" + 0.010*\"woman\" + 0.009*\"day\" + 0.008*\"life\" + 0.008*\"home\" + 0.007*\"cnn\" + 0.006*\"like\" + 0.006*\"say\" + 0.006*\"friend\" + 0.006*\"mother\" + 0.006*\"father\" + 0.005*\"back\" + 0.005*\"know\"')\n",
            "(18, '0.037*\"china\" + 0.031*\"north\" + 0.025*\"korea\" + 0.022*\"u\" + 0.017*\"south\" + 0.015*\"chinese\" + 0.013*\"military\" + 0.013*\"missile\" + 0.012*\"nuclear\" + 0.012*\"korean\" + 0.010*\"japan\" + 0.007*\"defense\" + 0.007*\"navy\" + 0.007*\"kim\" + 0.007*\"test\"')\n",
            "(19, '0.032*\"police\" + 0.018*\"officer\" + 0.009*\"case\" + 0.007*\"according\" + 0.006*\"crime\" + 0.006*\"two\" + 0.006*\"death\" + 0.006*\"charge\" + 0.006*\"prison\" + 0.006*\"man\" + 0.006*\"court\" + 0.006*\"authority\" + 0.006*\"shooting\" + 0.005*\"law\" + 0.005*\"attorney\"')\n"
          ]
        }
      ]
    },
    {
      "cell_type": "code",
      "source": [
        "# Apply LDA with TF-IDF and 12 topics\n",
        "lda_model_tfidf = LdaModel(corpus_tfidf,\n",
        "                           id2word=dictionary,\n",
        "                           num_topics=12,\n",
        "                           passes=10,\n",
        "                           iterations=100)"
      ],
      "metadata": {
        "id": "BZ317jgnjext"
      },
      "execution_count": 27,
      "outputs": []
    },
    {
      "cell_type": "code",
      "source": [
        "# Print the top 12 topics\n",
        "topics = lda_model_tfidf.show_topics(num_topics=12, num_words=15)\n",
        "for topic in topics:\n",
        "    print(topic)"
      ],
      "metadata": {
        "id": "-3y8fwm1jim6",
        "outputId": "51f01c32-ad76-4723-b4e0-cc0fd12bc0f0",
        "colab": {
          "base_uri": "https://localhost:8080/"
        }
      },
      "execution_count": 28,
      "outputs": [
        {
          "metadata": {
            "tags": null
          },
          "name": "stdout",
          "output_type": "stream",
          "text": [
            "(0, '0.016*\"cosby\" + 0.008*\"venezuela\" + 0.007*\"maduro\" + 0.006*\"venezuelan\" + 0.006*\"est\" + 0.006*\"pipeline\" + 0.004*\"crutcher\" + 0.004*\"constand\" + 0.004*\"dakota\" + 0.004*\"uranium\" + 0.003*\"caracas\" + 0.003*\"accuser\" + 0.003*\"durst\" + 0.003*\"ramos\" + 0.002*\"berman\"')\n",
            "(1, '0.005*\"malaysian\" + 0.005*\"malaysia\" + 0.004*\"stumpf\" + 0.003*\"lauer\" + 0.002*\"nintendo\" + 0.002*\"watters\" + 0.002*\"hubble\" + 0.002*\"indonesian\" + 0.002*\"kuala\" + 0.002*\"lumpur\" + 0.001*\"driverless\" + 0.001*\"zucker\" + 0.001*\"chobani\" + 0.001*\"najib\" + 0.001*\"dodger\"')\n",
            "(2, '0.014*\"nfl\" + 0.013*\"cia\" + 0.011*\"dnc\" + 0.009*\"pope\" + 0.007*\"nsa\" + 0.007*\"lgbt\" + 0.007*\"dc\" + 0.006*\"shark\" + 0.006*\"francis\" + 0.005*\"nypd\" + 0.004*\"anthem\" + 0.004*\"jong\" + 0.004*\"santorum\" + 0.004*\"boehner\" + 0.003*\"scarborough\"')\n",
            "(3, '0.014*\"rio\" + 0.013*\"zika\" + 0.012*\"olympic\" + 0.011*\"olympics\" + 0.010*\"virus\" + 0.008*\"disease\" + 0.008*\"gold\" + 0.008*\"medal\" + 0.007*\"athlete\" + 0.007*\"cdc\" + 0.006*\"fda\" + 0.006*\"infection\" + 0.005*\"sailor\" + 0.005*\"brazil\" + 0.005*\"outbreak\"')\n",
            "(4, '0.006*\"police\" + 0.004*\"isi\" + 0.004*\"fbi\" + 0.003*\"officer\" + 0.003*\"attack\" + 0.003*\"korea\" + 0.003*\"syria\" + 0.002*\"killed\" + 0.002*\"military\" + 0.002*\"city\" + 0.002*\"official\" + 0.002*\"north\" + 0.002*\"shooting\" + 0.002*\"china\" + 0.002*\"force\"')\n",
            "(5, '0.014*\"company\" + 0.011*\"market\" + 0.009*\"apple\" + 0.008*\"billion\" + 0.008*\"stock\" + 0.008*\"investor\" + 0.008*\"uber\" + 0.007*\"tax\" + 0.007*\"price\" + 0.006*\"google\" + 0.006*\"bank\" + 0.006*\"ceo\" + 0.005*\"business\" + 0.005*\"fund\" + 0.005*\"amazon\"')\n",
            "(6, '0.018*\"cartel\" + 0.013*\"guzman\" + 0.008*\"soros\" + 0.006*\"castile\" + 0.006*\"sinaloa\" + 0.006*\"chapo\" + 0.005*\"schweizer\" + 0.005*\"curiel\" + 0.004*\"stephanopoulos\" + 0.004*\"gaza\" + 0.004*\"arpaio\" + 0.003*\"alton\" + 0.003*\"hamas\" + 0.003*\"aol\" + 0.002*\"philando\"')\n",
            "(7, '0.005*\"trump\" + 0.003*\"clinton\" + 0.002*\"republican\" + 0.002*\"obama\" + 0.002*\"campaign\" + 0.002*\"u\" + 0.002*\"president\" + 0.001*\"cnn\" + 0.001*\"house\" + 0.001*\"donald\" + 0.001*\"hillary\" + 0.001*\"election\" + 0.001*\"like\" + 0.001*\"white\" + 0.001*\"say\"')\n",
            "(8, '0.037*\"yahoo\" + 0.009*\"mayer\" + 0.007*\"verizon\" + 0.005*\"marissa\" + 0.003*\"renzi\" + 0.002*\"sarandon\" + 0.002*\"do\" + 0.001*\"coptic\" + 0.001*\"ab\" + 0.001*\"valls\" + 0.001*\"dortmund\" + 0.001*\"rowley\" + 0.001*\"lieberman\" + 0.000*\"starboard\" + 0.000*\"tpg\"')\n",
            "(9, '0.053*\"tesla\" + 0.024*\"musk\" + 0.011*\"nasa\" + 0.009*\"climate\" + 0.009*\"elon\" + 0.009*\"suv\" + 0.009*\"solar\" + 0.007*\"space\" + 0.007*\"spacex\" + 0.007*\"planet\" + 0.006*\"headphone\" + 0.006*\"solarcity\" + 0.006*\"snow\" + 0.006*\"storm\" + 0.006*\"mph\"')\n",
            "(10, '0.014*\"buffett\" + 0.010*\"fiorina\" + 0.007*\"berkshire\" + 0.007*\"asteroid\" + 0.005*\"coulter\" + 0.005*\"carly\" + 0.004*\"murdoch\" + 0.004*\"hathaway\" + 0.003*\"mcfarland\" + 0.002*\"mickelson\" + 0.002*\"mccaul\" + 0.002*\"snoop\" + 0.002*\"prescott\" + 0.002*\"wiesel\" + 0.002*\"dogg\"')\n",
            "(11, '0.006*\"game\" + 0.006*\"startup\" + 0.006*\"apple\" + 0.005*\"iphone\" + 0.005*\"film\" + 0.005*\"season\" + 0.005*\"player\" + 0.004*\"movie\" + 0.004*\"star\" + 0.004*\"sport\" + 0.003*\"eu\" + 0.003*\"nba\" + 0.003*\"fan\" + 0.003*\"music\" + 0.003*\"food\"')\n"
          ]
        }
      ]
    },
    {
      "cell_type": "code",
      "source": [
        "# apply Non-negative matrix Factorizaion with TF-IDF and 15 topics\n",
        "nmf_model = gensim.models.Nmf(corpus=corpus_tfidf,\n",
        "                              id2word=dictionary,\n",
        "                              num_topics = 15,\n",
        "                              random_state = 42\n",
        "                              )"
      ],
      "metadata": {
        "id": "bwgzYTakCmaq"
      },
      "execution_count": 35,
      "outputs": []
    },
    {
      "cell_type": "code",
      "source": [
        "nmf_model.show_topics(num_topics=15, num_words=15)"
      ],
      "metadata": {
        "id": "Udcov9CvEeSn",
        "outputId": "7c5d6760-f946-4c27-aa3f-e2ab0a57eda4",
        "colab": {
          "base_uri": "https://localhost:8080/"
        }
      },
      "execution_count": 32,
      "outputs": [
        {
          "output_type": "execute_result",
          "data": {
            "text/plain": [
              "[(0,\n",
              "  '0.013*\"dr\" + 0.009*\"drug\" + 0.008*\"patient\" + 0.008*\"health\" + 0.006*\"study\" + 0.006*\"cancer\" + 0.006*\"case\" + 0.006*\"north\" + 0.005*\"medical\" + 0.004*\"doctor\" + 0.004*\"university\" + 0.004*\"could\" + 0.004*\"disease\" + 0.004*\"korea\" + 0.004*\"treatment\"'),\n",
              " (1,\n",
              "  '0.031*\"school\" + 0.014*\"student\" + 0.013*\"child\" + 0.013*\"woman\" + 0.011*\"city\" + 0.010*\"black\" + 0.007*\"family\" + 0.006*\"parent\" + 0.005*\"education\" + 0.005*\"white\" + 0.005*\"york\" + 0.005*\"public\" + 0.005*\"life\" + 0.004*\"high\" + 0.004*\"university\"'),\n",
              " (2,\n",
              "  '0.019*\"obama\" + 0.018*\"president\" + 0.018*\"court\" + 0.012*\"law\" + 0.010*\"case\" + 0.010*\"justice\" + 0.008*\"federal\" + 0.007*\"judge\" + 0.006*\"right\" + 0.006*\"house\" + 0.006*\"white\" + 0.005*\"department\" + 0.005*\"administration\" + 0.005*\"supreme\" + 0.005*\"attorney\"'),\n",
              " (3,\n",
              "  '0.027*\"police\" + 0.016*\"officer\" + 0.009*\"attack\" + 0.008*\"update\" + 0.006*\"twitter\" + 0.006*\"july\" + 0.006*\"report\" + 0.006*\"news\" + 0.005*\"shooting\" + 0.005*\"man\" + 0.005*\"shot\" + 0.005*\"two\" + 0.005*\"killed\" + 0.004*\"dallas\" + 0.004*\"pic\"'),\n",
              " (4,\n",
              "  '0.053*\"m\" + 0.018*\"woman\" + 0.006*\"china\" + 0.005*\"family\" + 0.005*\"like\" + 0.005*\"park\" + 0.005*\"mother\" + 0.004*\"korea\" + 0.004*\"north\" + 0.004*\"south\" + 0.003*\"child\" + 0.003*\"york\" + 0.003*\"chinese\" + 0.003*\"life\" + 0.003*\"daughter\"'),\n",
              " (5,\n",
              "  '0.037*\"state\" + 0.015*\"united\" + 0.012*\"american\" + 0.011*\"country\" + 0.007*\"government\" + 0.006*\"refugee\" + 0.006*\"u\" + 0.006*\"islamic\" + 0.005*\"group\" + 0.005*\"president\" + 0.005*\"muslim\" + 0.005*\"world\" + 0.005*\"military\" + 0.004*\"nation\" + 0.004*\"isi\"'),\n",
              " (6,\n",
              "  '0.022*\"clinton\" + 0.016*\"party\" + 0.013*\"vote\" + 0.011*\"republican\" + 0.010*\"voter\" + 0.010*\"election\" + 0.009*\"campaign\" + 0.009*\"democrat\" + 0.008*\"hillary\" + 0.007*\"poll\" + 0.007*\"sander\" + 0.007*\"democratic\" + 0.006*\"candidate\" + 0.005*\"political\" + 0.005*\"state\"'),\n",
              " (7,\n",
              "  '0.015*\"russia\" + 0.015*\"russian\" + 0.010*\"official\" + 0.008*\"intelligence\" + 0.008*\"u\" + 0.006*\"government\" + 0.006*\"attack\" + 0.005*\"cnn\" + 0.005*\"president\" + 0.005*\"security\" + 0.005*\"putin\" + 0.005*\"told\" + 0.005*\"syria\" + 0.005*\"investigation\" + 0.004*\"house\"'),\n",
              " (8,\n",
              "  '0.063*\"trump\" + 0.039*\"say\" + 0.019*\"clinton\" + 0.013*\"cruz\" + 0.011*\"twitter\" + 0.011*\"rubio\" + 0.009*\"pic\" + 0.009*\"donald\" + 0.008*\"march\" + 0.007*\"campaign\" + 0.006*\"hillary\" + 0.006*\"february\" + 0.006*\"news\" + 0.006*\"sander\" + 0.006*\"president\"'),\n",
              " (9,\n",
              "  '0.018*\"percent\" + 0.016*\"republican\" + 0.014*\"tax\" + 0.014*\"bill\" + 0.014*\"health\" + 0.012*\"house\" + 0.012*\"ryan\" + 0.011*\"care\" + 0.010*\"american\" + 0.009*\"obamacare\" + 0.008*\"plan\" + 0.007*\"woman\" + 0.007*\"insurance\" + 0.006*\"million\" + 0.005*\"democrat\"'),\n",
              " (10,\n",
              "  '0.017*\"say\" + 0.012*\"like\" + 0.009*\"know\" + 0.009*\"think\" + 0.008*\"going\" + 0.007*\"get\" + 0.007*\"thing\" + 0.006*\"want\" + 0.005*\"way\" + 0.005*\"go\" + 0.005*\"make\" + 0.004*\"right\" + 0.004*\"see\" + 0.004*\"really\" + 0.004*\"u\"'),\n",
              " (11,\n",
              "  '0.076*\"trump\" + 0.045*\"mr\" + 0.014*\"president\" + 0.013*\"republican\" + 0.007*\"campaign\" + 0.006*\"state\" + 0.006*\"donald\" + 0.006*\"house\" + 0.005*\"white\" + 0.005*\"administration\" + 0.005*\"could\" + 0.005*\"party\" + 0.004*\"election\" + 0.004*\"united\" + 0.004*\"policy\"'),\n",
              " (12,\n",
              "  '0.015*\"game\" + 0.009*\"team\" + 0.007*\"first\" + 0.006*\"player\" + 0.005*\"two\" + 0.005*\"house\" + 0.005*\"season\" + 0.004*\"play\" + 0.004*\"back\" + 0.004*\"white\" + 0.004*\"last\" + 0.004*\"like\" + 0.004*\"get\" + 0.004*\"day\" + 0.003*\"win\"'),\n",
              " (13,\n",
              "  '0.117*\"mr\" + 0.014*\"clinton\" + 0.006*\"york\" + 0.004*\"state\" + 0.004*\"like\" + 0.003*\"two\" + 0.003*\"campaign\" + 0.003*\"interview\" + 0.003*\"show\" + 0.003*\"castro\" + 0.003*\"m\" + 0.003*\"work\" + 0.003*\"former\" + 0.002*\"last\" + 0.002*\"many\"'),\n",
              " (14,\n",
              "  '0.021*\"company\" + 0.006*\"million\" + 0.006*\"business\" + 0.004*\"billion\" + 0.004*\"city\" + 0.003*\"like\" + 0.003*\"executive\" + 0.003*\"money\" + 0.003*\"could\" + 0.003*\"bank\" + 0.003*\"facebook\" + 0.003*\"market\" + 0.003*\"news\" + 0.003*\"york\" + 0.003*\"employee\"')]"
            ]
          },
          "metadata": {},
          "execution_count": 32
        }
      ]
    },
    {
      "cell_type": "markdown",
      "source": [
        "## Model Evaluation"
      ],
      "metadata": {
        "id": "R0WlZWATsJx6"
      }
    },
    {
      "cell_type": "code",
      "source": [
        "# Compute Coherence Score\n",
        "coherence_model_lda = CoherenceModel(model=nmf_model, texts=corpus_tfidf, dictionary=dictionary, coherence='c_v')\n",
        "coherence_lda = coherence_model_lda.get_coherence()\n",
        "print('Coherence Score: ', coherence_lda)"
      ],
      "metadata": {
        "id": "L6WX4wDrrGmp"
      },
      "execution_count": null,
      "outputs": []
    },
    {
      "cell_type": "code",
      "source": [],
      "metadata": {
        "id": "2M2R3Nl1OkT5"
      },
      "execution_count": null,
      "outputs": []
    }
  ]
}